{
  "nbformat": 4,
  "nbformat_minor": 0,
  "metadata": {
    "colab": {
      "name": "BigDataAnalysis_Regression.ipynb",
      "provenance": [],
      "collapsed_sections": [],
      "authorship_tag": "ABX9TyPsioA+5fDOH0weIuin33ej",
      "include_colab_link": true
    },
    "kernelspec": {
      "name": "python3",
      "display_name": "Python 3"
    },
    "language_info": {
      "name": "python"
    }
  },
  "cells": [
    {
      "cell_type": "markdown",
      "metadata": {
        "id": "view-in-github",
        "colab_type": "text"
      },
      "source": [
        "<a href=\"https://colab.research.google.com/github/Minsu-Byun/study/blob/main/BigDataAnalysis_Regression.ipynb\" target=\"_parent\"><img src=\"https://colab.research.google.com/assets/colab-badge.svg\" alt=\"Open In Colab\"/></a>"
      ]
    },
    {
      "cell_type": "code",
      "execution_count": 16,
      "metadata": {
        "colab": {
          "base_uri": "https://localhost:8080/"
        },
        "id": "mB-gwXYVaA3g",
        "outputId": "f7ab05ae-fa0c-4f0b-ded8-2deb41d9a8fe"
      },
      "outputs": [
        {
          "output_type": "stream",
          "name": "stdout",
          "text": [
            "<class 'pandas.core.frame.DataFrame'>\n",
            "RangeIndex: 398 entries, 0 to 397\n",
            "Data columns (total 7 columns):\n",
            " #   Column        Non-Null Count  Dtype  \n",
            "---  ------        --------------  -----  \n",
            " 0   mpg           398 non-null    float64\n",
            " 1   cylinders     398 non-null    int64  \n",
            " 2   displacement  398 non-null    float64\n",
            " 3   horsepower    396 non-null    float64\n",
            " 4   weight        398 non-null    int64  \n",
            " 5   acceleration  398 non-null    float64\n",
            " 6   model-year    398 non-null    int64  \n",
            "dtypes: float64(4), int64(3)\n",
            "memory usage: 21.9 KB\n",
            "기울기 a:  [-0.00774371]\n",
            "y절편 b:  46.62501834798047\n",
            "0.7015633872576372\n",
            "                   mpg  cylinders  displacement  horsepower    weight  \\\n",
            "mpg           1.000000  -0.775680     -0.804711   -0.777575 -0.832725   \n",
            "cylinders    -0.775680   1.000000      0.950706    0.843751  0.896058   \n",
            "displacement -0.804711   0.950706      1.000000    0.897787  0.932729   \n",
            "horsepower   -0.777575   0.843751      0.897787    1.000000  0.864350   \n",
            "weight       -0.832725   0.896058      0.932729    0.864350  1.000000   \n",
            "acceleration  0.421159  -0.504844     -0.542713   -0.687241 -0.415462   \n",
            "model-year    0.581144  -0.352554     -0.374620   -0.420697 -0.311774   \n",
            "\n",
            "              acceleration  model-year  \n",
            "mpg               0.421159    0.581144  \n",
            "cylinders        -0.504844   -0.352554  \n",
            "displacement     -0.542713   -0.374620  \n",
            "horsepower       -0.687241   -0.420697  \n",
            "weight           -0.415462   -0.311774  \n",
            "acceleration      1.000000    0.294588  \n",
            "model-year        0.294588    1.000000  \n"
          ]
        }
      ],
      "source": [
        "# 단순 선형 회귀\n",
        "# from google.colab import drive\n",
        "# drive.mount('/content/drive')\n",
        "import numpy as np\n",
        "import pandas as pd\n",
        "import sklearn\n",
        "import matplotlib.pyplot as plt\n",
        "from sklearn.linear_model import LinearRegression\n",
        "from sklearn.model_selection import train_test_split\n",
        "\n",
        "df = pd.read_csv('/content/drive/MyDrive/Colab Notebooks/빅데이터분석기사예제/auto-mpg.csv')\n",
        "df.info()\n",
        "\n",
        "# 상관관계 분석\n",
        "# df.plot(kind='scatter',x='cylinders',y='mpg')\n",
        "# plt.show()\n",
        "# df.plot(kind='scatter',x='displacement',y='mpg')\n",
        "# plt.show()\n",
        "# df.plot(kind='scatter',x='horsepower',y='mpg') # 음의 상관관계\n",
        "# plt.show()\n",
        "# df.plot(kind='scatter',x='weight',y='mpg')\n",
        "# plt.show()\n",
        "# df.plot(kind='scatter',x='acceleration',y='mpg')\n",
        "# plt.show()\n",
        "# df.plot(kind='scatter',x='model-year',y='mpg')\n",
        "# plt.show()\n",
        "\n",
        "# 전처리\n",
        "df = df.dropna(axis=0)\n",
        "\n",
        "# weight-mpg 분석\n",
        "X=df[['weight']]\n",
        "Y=df['mpg']\n",
        "X_train,X_test,Y_train,Y_test = train_test_split(X,Y,test_size=0.2,random_state=10)\n",
        "lr = LinearRegression()\n",
        "lr.fit(X_train,Y_train)\n",
        "\n",
        "print(\"기울기 a: \",lr.coef_) # 회귀식 기울기 - coef_\n",
        "print(\"y절편 b: \",lr.intercept_) # y절편 - intercept_\n",
        "\n",
        "pred = lr.predict(X_test)\n",
        "\n",
        "from sklearn.metrics import r2_score # R제곱 성능평가\n",
        "score = r2_score(Y_test,pred)\n",
        "print(score)\n",
        "\n",
        "# 학습 데이터셋으로 예측, 평가도 가능\n",
        "# pred = lr.predict(X_train)\n",
        "# score = r2_score(Y_train,pred)\n",
        "# print(score)\n",
        "\n",
        "# 상관관계 분석 0.7 = 강한 상관관계, 0에 가까울수록 상관관계 없음\n",
        "corr = df.corr(method='pearson')\n",
        "print(corr)"
      ]
    },
    {
      "cell_type": "code",
      "source": [
        "from logging import lastResort\n",
        "# 다중선형회귀\n",
        "import numpy as np\n",
        "import pandas as pd\n",
        "import sklearn\n",
        "import matplotlib.pyplot as plt\n",
        "from sklearn.linear_model import LinearRegression\n",
        "from sklearn.model_selection import train_test_split\n",
        "df = pd.read_csv('/content/drive/MyDrive/Colab Notebooks/빅데이터분석기사예제/housing.csv')\n",
        "df.info()\n",
        "\n",
        "df = df.dropna(axis=0)\n",
        "df = df.drop('ocean_proximity',axis=1) # 범주형 값은 분석에서 제외\n",
        "corr = df.corr(method='pearson')\n",
        "print(corr)\n",
        "\n",
        "# 데이터셋준비\n",
        "X = df.drop(\"median_house_value\",axis=1)\n",
        "Y = df['median_house_value']\n",
        "X_train,X_test,Y_train,Y_test = train_test_split(X,Y,test_size=0.3,random_state=42)\n",
        "\n",
        "lr = LinearRegression()\n",
        "\n",
        "lr.fit(X_train,Y_train)\n",
        "print(\"기울기 : \",lr.coef_)\n",
        "print(\"y절편 : \",lr.intercept_)\n",
        "\n",
        "pred = lr.predict(X_test)\n",
        "\n",
        "from sklearn.metrics import r2_score\n",
        "score = r2_score(Y_test,pred)\n",
        "print(score)"
      ],
      "metadata": {
        "colab": {
          "base_uri": "https://localhost:8080/"
        },
        "id": "Is61eIRCi5iC",
        "outputId": "2e207fea-2ba0-4002-a08b-8a8a4f86da46"
      },
      "execution_count": 35,
      "outputs": [
        {
          "output_type": "stream",
          "name": "stdout",
          "text": [
            "<class 'pandas.core.frame.DataFrame'>\n",
            "RangeIndex: 20640 entries, 0 to 20639\n",
            "Data columns (total 10 columns):\n",
            " #   Column              Non-Null Count  Dtype  \n",
            "---  ------              --------------  -----  \n",
            " 0   longitude           20640 non-null  float64\n",
            " 1   latitude            20640 non-null  float64\n",
            " 2   housing_median_age  20640 non-null  float64\n",
            " 3   total_rooms         20640 non-null  float64\n",
            " 4   total_bedrooms      20433 non-null  float64\n",
            " 5   population          20640 non-null  float64\n",
            " 6   households          20640 non-null  float64\n",
            " 7   median_income       20640 non-null  float64\n",
            " 8   median_house_value  20640 non-null  float64\n",
            " 9   ocean_proximity     20640 non-null  object \n",
            "dtypes: float64(9), object(1)\n",
            "memory usage: 1.6+ MB\n",
            "                    longitude  latitude  housing_median_age  total_rooms  \\\n",
            "longitude            1.000000 -0.924616           -0.109357     0.045480   \n",
            "latitude            -0.924616  1.000000            0.011899    -0.036667   \n",
            "housing_median_age  -0.109357  0.011899            1.000000    -0.360628   \n",
            "total_rooms          0.045480 -0.036667           -0.360628     1.000000   \n",
            "total_bedrooms       0.069608 -0.066983           -0.320451     0.930380   \n",
            "population           0.100270 -0.108997           -0.295787     0.857281   \n",
            "households           0.056513 -0.071774           -0.302768     0.918992   \n",
            "median_income       -0.015550 -0.079626           -0.118278     0.197882   \n",
            "median_house_value  -0.045398 -0.144638            0.106432     0.133294   \n",
            "\n",
            "                    total_bedrooms  population  households  median_income  \\\n",
            "longitude                 0.069608    0.100270    0.056513      -0.015550   \n",
            "latitude                 -0.066983   -0.108997   -0.071774      -0.079626   \n",
            "housing_median_age       -0.320451   -0.295787   -0.302768      -0.118278   \n",
            "total_rooms               0.930380    0.857281    0.918992       0.197882   \n",
            "total_bedrooms            1.000000    0.877747    0.979728      -0.007723   \n",
            "population                0.877747    1.000000    0.907186       0.005087   \n",
            "households                0.979728    0.907186    1.000000       0.013434   \n",
            "median_income            -0.007723    0.005087    0.013434       1.000000   \n",
            "median_house_value        0.049686   -0.025300    0.064894       0.688355   \n",
            "\n",
            "                    median_house_value  \n",
            "longitude                    -0.045398  \n",
            "latitude                     -0.144638  \n",
            "housing_median_age            0.106432  \n",
            "total_rooms                   0.133294  \n",
            "total_bedrooms                0.049686  \n",
            "population                   -0.025300  \n",
            "households                    0.064894  \n",
            "median_income                 0.688355  \n",
            "median_house_value            1.000000  \n",
            "기울기 :  [-4.21262308e+04 -4.20623763e+04  1.18784999e+03 -8.57874086e+00\n",
            "  1.18123421e+02 -3.55751755e+01  3.73676747e+01  4.03297253e+04]\n",
            "y절편 :  -3530241.307796566\n",
            "0.6445130291082337\n"
          ]
        }
      ]
    },
    {
      "cell_type": "code",
      "source": [
        "# 의사결정나무\n",
        "import numpy as np\n",
        "import pandas as pd\n",
        "import sklearn\n",
        "import matplotlib.pyplot as plt\n",
        "from sklearn.tree import DecisionTreeRegressor\n",
        "from sklearn.model_selection import train_test_split\n",
        "\n",
        "df = pd.read_csv('/content/drive/MyDrive/Colab Notebooks/빅데이터분석기사예제/housing.csv')\n",
        "\n",
        "df = df.dropna(axis=0)\n",
        "df = df.drop('ocean_proximity',axis=1) # 범주형 값은 분석에서 제외\n",
        "corr = df.corr(method='pearson')\n",
        "# print(corr)\n",
        "\n",
        "# 데이터셋준비\n",
        "X = df.drop(\"median_house_value\",axis=1)\n",
        "Y = df['median_house_value']\n",
        "X_train,X_test,Y_train,Y_test = train_test_split(X,Y,test_size=0.3,random_state=42)\n",
        "\n",
        "# 분석\n",
        "dtr = DecisionTreeRegressor(max_depth=3,random_state=42)\n",
        "dtr.fit(X_train,Y_train)\n",
        "\n",
        "pred = dtr.predict(X_test)\n",
        "from sklearn.metrics import mean_squared_error #평균제곱오차\n",
        "mse = mean_squared_error(Y_test,pred)\n",
        "print(mse)\n"
      ],
      "metadata": {
        "colab": {
          "base_uri": "https://localhost:8080/"
        },
        "id": "5xkAYBEHp86U",
        "outputId": "fdd262eb-e939-437f-a4fb-1c3af1579309"
      },
      "execution_count": 39,
      "outputs": [
        {
          "output_type": "stream",
          "name": "stdout",
          "text": [
            "6793101269.876856\n"
          ]
        }
      ]
    },
    {
      "cell_type": "code",
      "source": [
        "# 랜덤 포레스트\n",
        "\n",
        "from sklearn.ensemble import RandomForestRegressor\n",
        "from sklearn.model_selection import train_test_split\n"
      ],
      "metadata": {
        "id": "AxNRWlTNITJw"
      },
      "execution_count": null,
      "outputs": []
    }
  ]
}