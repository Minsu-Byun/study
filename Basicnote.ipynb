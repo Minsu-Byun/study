{
  "cells": [
    {
      "cell_type": "markdown",
      "metadata": {
        "id": "view-in-github",
        "colab_type": "text"
      },
      "source": [
        "<a href=\"https://colab.research.google.com/github/Minsu-Byun/study/blob/main/Basicnote.ipynb\" target=\"_parent\"><img src=\"https://colab.research.google.com/assets/colab-badge.svg\" alt=\"Open In Colab\"/></a>"
      ]
    },
    {
      "cell_type": "code",
      "execution_count": null,
      "metadata": {
        "colab": {
          "base_uri": "https://localhost:8080/"
        },
        "id": "fb5b7mocrbG2",
        "outputId": "db592079-6e02-4d1e-dab1-3a045434c359"
      },
      "outputs": [
        {
          "name": "stdout",
          "output_type": "stream",
          "text": [
            "hello world!\n"
          ]
        }
      ],
      "source": [
        "print(\"hello world!\")"
      ]
    },
    {
      "cell_type": "code",
      "execution_count": null,
      "metadata": {
        "colab": {
          "base_uri": "https://localhost:8080/"
        },
        "id": "iM3JtrRJs3sH",
        "outputId": "dec480e7-d436-4e2b-8c91-ffac7cc050db"
      },
      "outputs": [
        {
          "name": "stdout",
          "output_type": "stream",
          "text": [
            "<class 'int'>\n",
            "hello\n",
            "world\n",
            "hl\n",
            "I ate 10 apples. So I was sick for three days.\n",
            "3.4213\n"
          ]
        },
        {
          "data": {
            "text/plain": [
              "0"
            ]
          },
          "execution_count": 10,
          "metadata": {},
          "output_type": "execute_result"
        }
      ],
      "source": [
        "# 자료형 - 정수형 int, 실수형 float, 문자형 str ',\",''',\"\"\" 다 가능\n",
        "\n",
        "a = 1;\n",
        "print(type(a))\n",
        "\n",
        "# \\n 줄 바꿈, \\t 탭 간격, \\\\ 문자 \\사용, \\', \\*\n",
        "b = 'hello\\nworld'\n",
        "print(b)\n",
        "\n",
        "# 인덱싱, 슬라이싱 - a[이상, 미만, 간격]\n",
        "print(b[0:4:2])\n",
        "\n",
        "number = 10\n",
        "day = \"three\"\n",
        "a = \"I ate %d apples. So I was sick for %s days.\" %(number, day)\n",
        "print(a)\n",
        "\n",
        "\"djdka {age} alskdj akdjs {name} ajdkjs\".format(name=\"이시영\", age=3)\n",
        "\n",
        "a = \"%0.4f\" %3.42134234\n",
        "print(a)\n",
        "\n",
        "a=\"hobby\"\n",
        "a.count('b')\n",
        "a.find('h')\n",
        "\n",
        "# a.upper(), a.lower(), a.strip() - 공백 없애줌, a.split() - 띄어쓰기 기준으로 문자열을 리스트로 만들어줌"
      ]
    },
    {
      "cell_type": "code",
      "execution_count": null,
      "metadata": {
        "colab": {
          "base_uri": "https://localhost:8080/"
        },
        "id": "BBJD0aKuyDVP",
        "outputId": "bf86294c-25d5-46e3-9e4a-63b1f9252ece"
      },
      "outputs": [
        {
          "name": "stdout",
          "output_type": "stream",
          "text": [
            "f\n",
            "[['b', 'f'], 'c', 'd']\n"
          ]
        }
      ],
      "source": [
        "a = ['a', ['b', 'f'], 'c', 'd']\n",
        "print(a[1][1])\n",
        "\n",
        "del a[0] # a[0] = []\n",
        "print(a)\n",
        "\n",
        "# append(4) - 4 추가, remove(1), sort, index, reverse - 순서 뒤집기, insert(0, 4) - 0번째에 4 삽입, pop - 마지막 거 끄집어내기"
      ]
    },
    {
      "cell_type": "code",
      "execution_count": null,
      "metadata": {
        "colab": {
          "base_uri": "https://localhost:8080/"
        },
        "id": "ndawpJ-W8dE-",
        "outputId": "83f61a8e-a398-40dd-f5fb-5aec4da2f295"
      },
      "outputs": [
        {
          "name": "stdout",
          "output_type": "stream",
          "text": [
            "3.7.13 (default, Apr 24 2022, 01:04:09) \n",
            "[GCC 7.5.0]\n"
          ]
        }
      ],
      "source": [
        "import sys\n",
        "\n",
        "print(sys.version)"
      ]
    },
    {
      "cell_type": "code",
      "execution_count": null,
      "metadata": {
        "colab": {
          "base_uri": "https://localhost:8080/"
        },
        "id": "zQcB7yEqWHeU",
        "outputId": "e63de799-e0ce-4617-874a-afb41d77544c"
      },
      "outputs": [
        {
          "name": "stdout",
          "output_type": "stream",
          "text": [
            "False\n",
            "3\n",
            "5\n",
            "2\n",
            "16\n"
          ]
        }
      ],
      "source": [
        "print(not (1 != 3))\n",
        "\n",
        "# and = &, or = |\n",
        "\n",
        "number = 3\n",
        "print(number)\n",
        "number = number + 2 # number += 2\n",
        "print(number)\n",
        "\n",
        "print(number%3) # % - 나누고 나서 나머지\n",
        "\n",
        "print(pow(4,2)) # 4^2\n",
        "print(max(4,2))\n",
        "print(min(4,2))\n"
      ]
    },
    {
      "cell_type": "code",
      "execution_count": null,
      "metadata": {
        "colab": {
          "base_uri": "https://localhost:8080/"
        },
        "id": "EJ4JSL4xasQG",
        "outputId": "a70189ff-833f-4046-fc1c-e256cb594752"
      },
      "outputs": [
        {
          "name": "stdout",
          "output_type": "stream",
          "text": [
            "4\n",
            "5\n",
            "4.0\n",
            "0.8641116150280831\n",
            "15\n",
            "28\n",
            "15\n"
          ]
        }
      ],
      "source": [
        "from math import *\n",
        "from random import *\n",
        "\n",
        "print(floor(4.99))\n",
        "print(ceil(4.99))\n",
        "print(sqrt(16))\n",
        "\n",
        "print(random()) # 0~1 임의의 수 생성\n",
        "print(int(random() * 45) + 1) # 1~45 이하의 임의의 값 생성\n",
        "print(randrange(1,46)) # 1 ~ 46 미만의 임의의 값 생성\n",
        "print(randint(1,45)) # 1 ~ 45 이하의 임의의 값 생성\n",
        "\n"
      ]
    },
    {
      "cell_type": "code",
      "execution_count": null,
      "metadata": {
        "colab": {
          "base_uri": "https://localhost:8080/"
        },
        "id": "DJOWrBP0c5g4",
        "outputId": "1a2a5ff6-bd69-4034-f15c-70dfbed38e80"
      },
      "outputs": [
        {
          "name": "stdout",
          "output_type": "stream",
          "text": [
            "오프라인 스터디 모임 날짜는 매월  21  일로 선정되었습니다.\n"
          ]
        }
      ],
      "source": [
        "## 퀴즈\n",
        "from random import *\n",
        "\n",
        "a = randrange(4,29)\n",
        "print('오프라인 스터디 모임 날짜는 매월 ', a, ' 일로 선정되었습니다.') # str(a) 로 하면 숫자가 텍스트로 바뀜"
      ]
    },
    {
      "cell_type": "code",
      "execution_count": null,
      "metadata": {
        "colab": {
          "base_uri": "https://localhost:8080/"
        },
        "id": "EWPA4memmjRY",
        "outputId": "daad6f89-d81b-44aa-d8e4-403df5c1844b"
      },
      "outputs": [
        {
          "name": "stdout",
          "output_type": "stream",
          "text": [
            "나는 소년입니다.\n",
            "파이썬은 쉬워요\n",
            "\n",
            "나는 소년이고,\n",
            "파이썬은 쉬워요\n",
            "\n",
            "99012\n",
            "902-\n",
            "123456\n",
            "python is amazing\n",
            "PYTHON IS AMAZING\n",
            "True\n",
            "17\n",
            "Java is amazing\n",
            "5\n",
            "15\n",
            "5\n",
            "2\n"
          ]
        }
      ],
      "source": [
        "# 문자열\n",
        "sentence = '나는 소년입니다.'\n",
        "sentence2 = '파이썬은 쉬워요'\n",
        "sentence3 = \"\"\"\n",
        "나는 소년이고,\n",
        "파이썬은 쉬워요\n",
        "\"\"\"\n",
        "print(sentence)\n",
        "print(sentence2)\n",
        "print(sentence3)\n",
        "\n",
        "# 슬라이싱\n",
        "jumin = \"990120-1234567\"\n",
        "print(jumin[0:5])\n",
        "print(jumin[:7:2])\n",
        "print(jumin[-7:-1]) # 슬라이싱으로 -1은 제외해서 결과 출력\n",
        "\n",
        "#문자열 처리 함수\n",
        "python = \"Python is amazing\"\n",
        "print(python.lower())\n",
        "print(python.upper())\n",
        "print(python[0].isupper())\n",
        "print(len(python))\n",
        "print(python.replace(\"Python\", \"Java\"))\n",
        "\n",
        "index = python.index(\"n\")\n",
        "print(index)\n",
        "index = python.index(\"n\", index + 1)\n",
        "print(index)\n",
        "print(python.find(\"n\")) # 내가 찾는 값이 없을 때, -1 출력 - index 함수는 오류 출력\n",
        "\n",
        "print(python.count(\"n\"))"
      ]
    },
    {
      "cell_type": "code",
      "execution_count": null,
      "metadata": {
        "colab": {
          "base_uri": "https://localhost:8080/"
        },
        "id": "g5ZrCvWxoCxX",
        "outputId": "329becc6-89df-4528-920c-a9e4bfc1128f"
      },
      "outputs": [
        {
          "name": "stdout",
          "output_type": "stream",
          "text": [
            "AB\n",
            "A B\n",
            "나는 20살입니다.\n",
            "나는 파이썬를 좋아해요.\n",
            "나는 빨강색과 파랑색을 좋아해요.\n",
            "나는 20살입니다.\n",
            "나는 빨강색과 파랑색을 좋아해요.\n",
            "나는 20살이며, 노랑색을 좋아해요.\n",
            "나는 20살이며, 빨강색을 좋아해요.\n"
          ]
        }
      ],
      "source": [
        "#문자열 포맷\n",
        "print(\"A\" + \"B\")\n",
        "print(\"A\", \"B\")\n",
        "\n",
        "print(\"나는 %d살입니다.\" % 20) #d = 정수형(double)\n",
        "print(\"나는 %s를 좋아해요.\" % \"파이썬\") #s = 문자형(str), #c = 한 글자(Character)\n",
        "\n",
        "print(\"나는 %s색과 %s색을 좋아해요.\" % (\"빨강\", \"파랑\"))\n",
        "print(\"나는 {}살입니다.\".format(20)) #중괄호\n",
        "print(\"나는 {0}색과 {1}색을 좋아해요.\".format(\"빨강\", \"파랑\")) # 그냥 {}도 가능 안에 인덱스 개념\n",
        "print(\"나는 {age}살이며, {color}색을 좋아해요.\".format(age = 20, color = \"노랑\"))\n",
        "\n",
        "age = 20\n",
        "color = \"빨강\"\n",
        "print(f\"나는 {age}살이며, {color}색을 좋아해요.\") # f - python 3.6이상만 가능"
      ]
    },
    {
      "cell_type": "code",
      "execution_count": null,
      "metadata": {
        "colab": {
          "base_uri": "https://localhost:8080/"
        },
        "id": "pZ0ugiolqHga",
        "outputId": "61d084f4-a361-4602-a74c-0b5cbf22bfb4"
      },
      "outputs": [
        {
          "name": "stdout",
          "output_type": "stream",
          "text": [
            "백문이 불여일견\n",
            "백견이 불여일타\n",
            "저는 \"변민수\"입니다.\n",
            "저는 \"변민수\"입니다.\n",
            "Red Apple\rPine\n",
            "Redd\b Apple\n",
            "Red\tApple\n"
          ]
        }
      ],
      "source": [
        "# 탈출문자\n",
        "print(\"백문이 불여일견\\n백견이 불여일타\")\n",
        "print(\"\"\"저는 \"변민수\"입니다.\"\"\")\n",
        "print(\"저는 \\\"변민수\\\"입니다.\") # \\\\ : \\ 출력\n",
        "\n",
        "print(\"Red Apple\\rPine\") #\\r 맨 앞으로 이동\n",
        "print(\"Redd\\b Apple\") #\\b 한 칸 지우기\n",
        "print(\"Red\\tApple\") #\\t 탭"
      ]
    },
    {
      "cell_type": "code",
      "execution_count": null,
      "metadata": {
        "colab": {
          "base_uri": "https://localhost:8080/"
        },
        "id": "qjw1fPRlkICd",
        "outputId": "9ea64165-2006-4b4e-bfe9-58fdc116e5c0"
      },
      "outputs": [
        {
          "name": "stdout",
          "output_type": "stream",
          "text": [
            "[5, 4, 3, 2, 1]\n",
            "[5, 4, 3, 2, 1, '김창석', '고창석']\n"
          ]
        }
      ],
      "source": [
        "# 리스트 [], 다양한 자료형 mix 가능\n",
        "\n",
        "subway = [10, 20, 30]\n",
        "print(subway)\n",
        "\n",
        "print(subway.index(20))\n",
        "\n",
        "subway.append(40)\n",
        "print(subway)\n",
        "\n",
        "subway.insert(1, 15) # 들어갈 위치, 들어갈 데이터\n",
        "print(subway)\n",
        "\n",
        "print(subway.pop()) # 맨 끝 빼내기\n",
        "print(subway)\n",
        "\n",
        "print(subway.count(10)) # 같은 값 몇 번?\n",
        "\n",
        "\n",
        "subway = [5,4,3,2,1]\n",
        "print(subway)\n",
        "\n",
        "print(subway.sort())\n",
        "print(subway.reverse())\n",
        "\n",
        "print(subway.clear())\n",
        "\n",
        "subway2 = [\"김창석\", \"고창석\"]\n",
        "\n",
        "subway.extend(subway2)\n",
        "print(subway)\n"
      ]
    },
    {
      "cell_type": "code",
      "execution_count": null,
      "metadata": {
        "colab": {
          "base_uri": "https://localhost:8080/"
        },
        "id": "fHp-gNIuppOw",
        "outputId": "c465debf-c306-4b30-bafd-bdf754d9258d"
      },
      "outputs": [
        {
          "name": "stdout",
          "output_type": "stream",
          "text": [
            "유재석\n",
            "김태호\n",
            "사용 가능\n",
            "True\n",
            "False\n",
            "{3: '유재석', 100: '김태호', '가': '조세호'}\n",
            "{3: '유재석', 100: '김태호'}\n",
            "dict_keys([3, 100])\n",
            "dict_values(['유재석', '김태호'])\n",
            "dict_items([(3, '유재석'), (100, '김태호')])\n",
            "{}\n"
          ]
        }
      ],
      "source": [
        "# 사전 {키:값}\n",
        "cabinet = {3:\"유재석\", 100:\"김태호\"}\n",
        "print(cabinet[3]) # print(cabinet.get(3)) // [] - 값 없으면 오류 출력, get함수 - 없으면 None 출력\n",
        "print(cabinet[100])\n",
        "print(cabinet.get(5, \"사용 가능\"))\n",
        "\n",
        "print(3 in cabinet)\n",
        "print(5 in cabinet)\n",
        "\n",
        "cabinet[\"가\"] = \"조세호\"\n",
        "print(cabinet)\n",
        "\n",
        "del cabinet[\"가\"]\n",
        "print(cabinet)\n",
        "\n",
        "print(cabinet.keys())\n",
        "print(cabinet.values())\n",
        "print(cabinet.items())\n",
        "\n",
        "cabinet.clear()\n",
        "print(cabinet)"
      ]
    },
    {
      "cell_type": "code",
      "execution_count": null,
      "metadata": {
        "colab": {
          "base_uri": "https://localhost:8080/"
        },
        "id": "SCkJVWWhsaX8",
        "outputId": "016b5344-3a0f-426c-e7ca-eac7ad65b35b"
      },
      "outputs": [
        {
          "name": "stdout",
          "output_type": "stream",
          "text": [
            "돈까스\n",
            "김종국 20 헬스\n"
          ]
        }
      ],
      "source": [
        "# 튜플 - () 변경 불가 목록\n",
        "\n",
        "menu = (\"돈까스\", \"치즈까스\")\n",
        "print(menu[0])\n",
        "\n",
        "# menu.add(\"생선까스\") 불가능\n",
        "\n",
        "(name, age, hobby) = (\"김종국\", 20, \"헬스\")\n",
        "print(name, age, hobby)"
      ]
    },
    {
      "cell_type": "code",
      "execution_count": null,
      "metadata": {
        "colab": {
          "base_uri": "https://localhost:8080/"
        },
        "id": "krEUtZh_s5ri",
        "outputId": "56fd0a37-2359-4e32-ec41-9ed5bdda758f"
      },
      "outputs": [
        {
          "name": "stdout",
          "output_type": "stream",
          "text": [
            "{1, 2, 3}\n",
            "{5}\n",
            "{1, 2, 3, 4, 5, 6, 7, 8}\n",
            "{1, 2, 3, 4}\n",
            "{5, 6, 7, 8, 9}\n",
            "{1, 2, 3, 4}\n"
          ]
        }
      ],
      "source": [
        "# 세트(set) - {} 집합, 중복 안되고, 순서 없음\n",
        "\n",
        "my_set = {1,2,3,3,3}\n",
        "print(my_set)\n",
        "\n",
        "java = {1,2,3,4,5}\n",
        "python = set([5,6,7,8])\n",
        "\n",
        "print(java & python) # java.intersection(python))\n",
        "print(java | python) # java.union(python))\n",
        "print(java - python) # java.difference(python))\n",
        "\n",
        "python.add(9)\n",
        "print(python)\n",
        "\n",
        "java.remove(5)\n",
        "print(java)"
      ]
    },
    {
      "cell_type": "code",
      "execution_count": null,
      "metadata": {
        "colab": {
          "base_uri": "https://localhost:8080/"
        },
        "id": "TMDg93kpuPJd",
        "outputId": "a9e15106-ffab-430c-afc8-a357a33c41ba"
      },
      "outputs": [
        {
          "name": "stdout",
          "output_type": "stream",
          "text": [
            "{'커피', '우유', '주스'} <class 'set'>\n",
            "['커피', '우유', '주스'] <class 'list'>\n",
            "('커피', '우유', '주스') <class 'tuple'>\n"
          ]
        }
      ],
      "source": [
        "# 자료 구조 변경\n",
        "menu = {\"커피\", \"우유\", \"주스\"}\n",
        "print(menu, type(menu))\n",
        "\n",
        "menu = list(menu)\n",
        "print(menu, type(menu))\n",
        "\n",
        "menu = tuple(menu)\n",
        "print(menu, type(menu))\n",
        "\n",
        "menu = set(menu)"
      ]
    },
    {
      "cell_type": "code",
      "execution_count": null,
      "metadata": {
        "colab": {
          "base_uri": "https://localhost:8080/"
        },
        "id": "snomGaVRpPfM",
        "outputId": "fdcb846d-30e9-49d5-98d3-aa70127c9668"
      },
      "outputs": [
        {
          "name": "stdout",
          "output_type": "stream",
          "text": [
            "오늘 날씨는 어때요? 비\n",
            "우산을 챙기세요.\n",
            "기온은 어때요? 27\n",
            "괜찮은 날씨에요.\n"
          ]
        }
      ],
      "source": [
        "# 조건문 if :\n",
        "\n",
        "weather = input(\"오늘 날씨는 어때요? \") # input() 안에 스페이스에 데이터를 넣어줌\n",
        "if weather == \"비\" or weather == \"눈\":\n",
        "  print(\"우산을 챙기세요.\")\n",
        "elif weather == \"미세먼지\":\n",
        "  print(\"마스크를 챙기세요\")\n",
        "else:\n",
        "  print(\"준비물 필요 없어요.\")\n",
        "\n",
        "temp = int(input(\"기온은 어때요? \"))\n",
        "if 30 <= temp:\n",
        "  print(\"너무 더우니 나가지 마세요.\")\n",
        "elif 10 <= temp < 30:\n",
        "  print(\"괜찮은 날씨에요.\")\n",
        "else:\n",
        "  print(\"추우니 나가지 마세요.\")\n"
      ]
    },
    {
      "cell_type": "code",
      "execution_count": null,
      "metadata": {
        "colab": {
          "base_uri": "https://localhost:8080/"
        },
        "id": "cXkryoIy2kt7",
        "outputId": "8beb1415-b768-44fd-a2dd-47f687f8dc8d"
      },
      "outputs": [
        {
          "name": "stdout",
          "output_type": "stream",
          "text": [
            "대기번호 : 1\n",
            "대기번호 : 2\n",
            "대기번호 : 3\n",
            "대기번호 : 4\n",
            "대기번호 : 5\n",
            "아이언맨님, 커피가 준비되었습니다.\n",
            "토르님, 커피가 준비되었습니다.\n",
            "그루트님, 커피가 준비되었습니다.\n"
          ]
        }
      ],
      "source": [
        "#for 반복문\n",
        "\n",
        "for waiting_no in range(1, 6):\n",
        "  print(\"대기번호 : {0}\".format(waiting_no))\n",
        "\n",
        "starbucks = [\"아이언맨\", \"토르\", \"그루트\"]\n",
        "for customer in starbucks:\n",
        "  print(\"{0}님, 커피가 준비되었습니다.\".format(customer))"
      ]
    },
    {
      "cell_type": "code",
      "execution_count": null,
      "metadata": {
        "colab": {
          "base_uri": "https://localhost:8080/"
        },
        "id": "MvBLS9P846fK",
        "outputId": "50b80fc3-aac0-4652-beac-8d02539b3e9d"
      },
      "outputs": [
        {
          "name": "stdout",
          "output_type": "stream",
          "text": [
            "토르, 커피가 준비 되었습니다. 5번 남았어요.\n",
            "토르, 커피가 준비 되었습니다. 4번 남았어요.\n",
            "토르, 커피가 준비 되었습니다. 3번 남았어요.\n",
            "토르, 커피가 준비 되었습니다. 2번 남았어요.\n",
            "토르, 커피가 준비 되었습니다. 1번 남았어요.\n",
            "커피는 폐기처분 되었습니다.\n",
            "토르, 커피가 준비 되었습니다.\n",
            "이름이 어떻게 되시요? 토르\n"
          ]
        }
      ],
      "source": [
        "# while 반복문\n",
        "customer = \"토르\"\n",
        "index = 5\n",
        "while index >=1:\n",
        "  print(\"{0}, 커피가 준비 되었습니다. {1}번 남았어요.\".format(customer, index))\n",
        "  index -= 1\n",
        "  if index == 0:\n",
        "    print(\"커피는 폐기처분 되었습니다.\")\n",
        "\n",
        "\n",
        "\n",
        "customer = \"토르\"\n",
        "person = \"\"\n",
        "while person != customer:\n",
        "  print(\"{0}, 커피가 준비 되었습니다.\".format(customer))\n",
        "  person = input(\"이름이 어떻게 되시요? \")"
      ]
    },
    {
      "cell_type": "code",
      "execution_count": null,
      "metadata": {
        "colab": {
          "base_uri": "https://localhost:8080/"
        },
        "id": "79uoP5oF6i3e",
        "outputId": "a6173101-8cd5-45be-cef7-7ad4522bacdd"
      },
      "outputs": [
        {
          "name": "stdout",
          "output_type": "stream",
          "text": [
            "1아, 책을 읽어봐\n",
            "3아, 책을 읽어봐\n",
            "4아, 책을 읽어봐\n",
            "6아, 책을 읽어봐\n",
            "오늘 수업 여기까지. 7는 교무실로 따라와\n"
          ]
        }
      ],
      "source": [
        "# continute, break\n",
        "\n",
        "absent = [2, 5]\n",
        "no_book = [7]\n",
        "\n",
        "for student in range(1,11):\n",
        "  if student in absent:\n",
        "    continue\n",
        "  elif student in no_book:\n",
        "    print(\"오늘 수업 여기까지. {0}는 교무실로 따라와\".format(student))\n",
        "    break\n",
        "  print(\"{0}아, 책을 읽어봐\".format(student))"
      ]
    },
    {
      "cell_type": "code",
      "execution_count": null,
      "metadata": {
        "colab": {
          "base_uri": "https://localhost:8080/"
        },
        "id": "QaGtyu47-ZSD",
        "outputId": "cc96da10-ab91-47a9-9994-a45fde9c19a2"
      },
      "outputs": [
        {
          "name": "stdout",
          "output_type": "stream",
          "text": [
            "[1, 2, 3, 4, 5]\n",
            "[101, 102, 103, 104, 105]\n",
            "['Iron man', 'Thor', 'Groot']\n",
            "[8, 4, 5]\n"
          ]
        }
      ],
      "source": [
        "# 한 줄 for\n",
        "student = [1, 2, 3, 4, 5]\n",
        "print(student)\n",
        "student = [i + 100 for i in student]\n",
        "print(student)\n",
        "\n",
        "student2 = [\"Iron man\", \"Thor\", \"Groot\"]\n",
        "print(student2)\n",
        "student2 = [len(i) for i in student2]\n",
        "print(student2)"
      ]
    },
    {
      "cell_type": "code",
      "execution_count": null,
      "metadata": {
        "colab": {
          "base_uri": "https://localhost:8080/"
        },
        "id": "t99nhiLQbGhX",
        "outputId": "fb7c17b6-fe16-4e94-b8b6-0d1fa2f100ba"
      },
      "outputs": [
        {
          "name": "stdout",
          "output_type": "stream",
          "text": [
            "새로운 계좌가 생성되었습니다.\n",
            "입금이 완료되었습니다. 잔액은 10000원 입니다.\n",
            "출금이 완료되지 않았습니다. 잔액은 10000원 입니다.\n",
            "수수료 100원 이며, 잔액은 9400 원 입니다.\n"
          ]
        }
      ],
      "source": [
        "# 함수\n",
        "def open_account():\n",
        "  print(\"새로운 계좌가 생성되었습니다.\")\n",
        "\n",
        "open_account()\n",
        "\n",
        "def deposit(balance, money):\n",
        "  print(\"입금이 완료되었습니다. 잔액은 {0}원 입니다.\".format(balance+money))\n",
        "  return balance + money\n",
        "\n",
        "def withdraw(balance, money):\n",
        "  if balance >= money:\n",
        "    print(\"출금이 완료되었습니다. 잔액은 {0}원 입니다.\".format(balance - money))\n",
        "    return balance - money\n",
        "  else:\n",
        "    print(\"출금이 완료되지 않았습니다. 잔액은 {0}원 입니다.\".format(balance))\n",
        "    return balance\n",
        "\n",
        "def withdraw_night(balance, money):\n",
        "  commission = 100\n",
        "  return commission, balance - money - commission\n",
        "\n",
        "balance = 0\n",
        "balance = deposit(balance, 10000)\n",
        "balance = withdraw(balance, 15000)\n",
        "\n",
        "commission, balance = withdraw_night(balance, 500)\n",
        "print(\"수수료 {0}원 이며, 잔액은 {1} 원 입니다.\".format(commission, balance))"
      ]
    },
    {
      "cell_type": "code",
      "execution_count": null,
      "metadata": {
        "colab": {
          "base_uri": "https://localhost:8080/"
        },
        "id": "-jxJRIz1ku-j",
        "outputId": "4014c338-6709-403d-e063-3cd16963025e"
      },
      "outputs": [
        {
          "name": "stdout",
          "output_type": "stream",
          "text": [
            "이름 : 석호필\t나이 : 17\t주 사용 언어 : Python\n",
            "이름 : 조세호\t나이 : 17\t주 사용 언어 : Python\n",
            "이름 : 유재석\t나이 : 43\t주 사용 언어 : 파이썬\n",
            "이름 : 김태호\t나이 : 33\t주 사용 언어 : 자바\n",
            "이름 : 김창수\t나이 : 32\t주 사용 언어 : C++\n"
          ]
        }
      ],
      "source": [
        "# 기본값\n",
        "def profile(name, age = 17, main_lang = \"Python\"):\n",
        "  print(\"이름 : {0}\\t나이 : {1}\\t주 사용 언어 : {2}\".format(name, age, main_lang))\n",
        "\n",
        "profile(\"석호필\")\n",
        "profile(\"조세호\")\n",
        "profile(\"유재석\", 43, \"파이썬\")\n",
        "profile(\"김태호\", 33, \"자바\")\n",
        "\n",
        "# 키워드 값\n",
        "profile(name = \"김창수\", main_lang = \"C++\", age = 32)"
      ]
    },
    {
      "cell_type": "code",
      "execution_count": null,
      "metadata": {
        "colab": {
          "base_uri": "https://localhost:8080/"
        },
        "id": "7JD8PNsbl3zN",
        "outputId": "cd8d6acf-e1fa-4c79-ffc5-2a40b77a55e9"
      },
      "outputs": [
        {
          "name": "stdout",
          "output_type": "stream",
          "text": [
            "이름 : 유재석\t나이 : 32\t A B C \n",
            "이름 : 김태호\t나이 : 11\t 2 3 \n"
          ]
        }
      ],
      "source": [
        "def profile(name, age, *language):\n",
        "  print(\"이름 : {0}\\t나이 : {1}\\t\".format(name, age), end = \" \")\n",
        "  for lang in language:\n",
        "    print(lang, end = \" \")\n",
        "  print()\n",
        "\n",
        "profile(\"유재석\", 32, \"A\", \"B\", \"C\")\n",
        "profile(\"김태호\", 11, \"2\", \"3\")"
      ]
    },
    {
      "cell_type": "code",
      "execution_count": null,
      "metadata": {
        "colab": {
          "base_uri": "https://localhost:8080/"
        },
        "id": "EeZD7u-cpoNj",
        "outputId": "6f36ccca-3fc5-44a8-a8cb-9ced86cf65f2"
      },
      "outputs": [
        {
          "name": "stdout",
          "output_type": "stream",
          "text": [
            "전체 총 : 10\n",
            "남은 총 : 5\n",
            "남은 총 : 5\n",
            "남은 총 : 3\n"
          ]
        }
      ],
      "source": [
        "# 전역, 지역 변수 - 함수() 안에 호출 받고, return으로 반환하는게 제일 좋음\n",
        "\n",
        "gun = 10 #전역변수\n",
        "\n",
        "def checkpoint(soldiers):\n",
        "  global gun # 지역변수 -> 전역 공간에 있는 gun 사용\n",
        "  gun = gun - soldiers\n",
        "  print(\"남은 총 : {0}\".format(gun))\n",
        "\n",
        "def checkpoint_ret(gun, soldiers):\n",
        "  gun = gun - soldiers\n",
        "  print(\"남은 총 : {0}\".format(gun))\n",
        "  return gun\n",
        "\n",
        "print(\"전체 총 : {0}\".format(gun))\n",
        "checkpoint(5)\n",
        "print(\"남은 총 : {0}\".format(gun))\n",
        "\n",
        "gun = checkpoint_ret(gun, 2)"
      ]
    },
    {
      "cell_type": "code",
      "execution_count": null,
      "metadata": {
        "colab": {
          "base_uri": "https://localhost:8080/"
        },
        "id": "H83PtLQRvQCB",
        "outputId": "37165782-54a7-4251-beeb-23a927d80d44"
      },
      "outputs": [
        {
          "name": "stdout",
          "output_type": "stream",
          "text": [
            "Python,Java JavaScript\n",
            "수학      :   0\n",
            "영어      :  50\n",
            "코딩      : 100\n",
            "대기번호 : 001\n",
            "대기번호 : 002\n",
            "대기번호 : 003\n",
            "대기번호 : 004\n",
            "대기번호 : 005\n",
            "대기번호 : 006\n",
            "대기번호 : 007\n",
            "대기번호 : 008\n",
            "대기번호 : 009\n",
            "대기번호 : 010\n",
            "대기번호 : 011\n",
            "대기번호 : 012\n",
            "대기번호 : 013\n",
            "대기번호 : 014\n",
            "대기번호 : 015\n",
            "대기번호 : 016\n",
            "대기번호 : 017\n",
            "대기번호 : 018\n",
            "대기번호 : 019\n",
            "대기번호 : 020\n"
          ]
        }
      ],
      "source": [
        "# 표준 입출력\n",
        "\n",
        "print(\"Python\", \"Java\", sep = \",\", end = \" \") # end -> 기본 줄바꿈에서 내가 지정한 걸로 바뀜\n",
        "print(\"JavaScript\")\n",
        "\n",
        "scores = {\"수학\":0, \"영어\":50, \"코딩\":100}\n",
        "for subject, score in scores.items():\n",
        "  print(subject.ljust(8), str(score).rjust(4), sep = \":\")\n",
        "\n",
        "\n",
        "for num in range(1, 21):\n",
        "  print(\"대기번호 : \" + str(num).zfill(3))\n",
        "\n",
        "# input() 으로 데이터 받으면 데이터 타입 = str"
      ]
    },
    {
      "cell_type": "code",
      "execution_count": null,
      "metadata": {
        "colab": {
          "base_uri": "https://localhost:8080/"
        },
        "id": "qlzvmKXh_SuW",
        "outputId": "1852eaa4-6559-4bb4-d5c4-68dfe8d4476e"
      },
      "outputs": [
        {
          "name": "stdout",
          "output_type": "stream",
          "text": [
            "       500\n",
            "      +500\n",
            "      -500\n",
            "+500______\n",
            "10,000,000,000\n",
            "+10,000,000,000\n",
            "-10,000,000,000\n",
            "110,001,010,101^^^^^^^^^^^^^^^\n",
            "0.600000\n",
            "0.60\n"
          ]
        }
      ],
      "source": [
        "# 다양한 출력 포맷\n",
        "print(\"{0: >10}\".format(500))\n",
        "print(\"{0: >+10}\".format(500))\n",
        "print(\"{0: >10}\".format(-500))\n",
        "\n",
        "print(\"{0:_<+10}\".format(500))\n",
        "\n",
        "print(\"{0:,}\".format(10000000000))\n",
        "print(\"{0:+,}\".format(10000000000))\n",
        "print(\"{0:+,}\".format(-10000000000))\n",
        "\n",
        "print(\"{0:^<30,}\".format(110001010101))\n",
        "\n",
        "print(\"{0:f}\".format(3/5))\n",
        "print(\"{0:.2f}\".format(3/5))\n"
      ]
    },
    {
      "cell_type": "code",
      "execution_count": null,
      "metadata": {
        "colab": {
          "base_uri": "https://localhost:8080/"
        },
        "id": "U6MJBvJ4Ay-d",
        "outputId": "71070579-4387-448d-8d6e-b9825c777905"
      },
      "outputs": [
        {
          "name": "stdout",
          "output_type": "stream",
          "text": [
            "수학 : 0\n",
            "영어 : 50\n",
            "과학 : 80\n",
            "코딩 : 100수학 : 0\n",
            "영어 : 50\n",
            "과학 : 80\n",
            "코딩 : 100"
          ]
        }
      ],
      "source": [
        "#파일 입출력\n",
        "\n",
        "# score_file = open(\"score.txt\", \"w\", encoding=\"utf8\") # w - writing (쓰기 위한 파일)\n",
        "# print(\"수학 : 0\", file=score_file)\n",
        "# print(\"영어 : 50\", file=score_file)\n",
        "# score_file.close()\n",
        "\n",
        "# score_file = open(\"score.txt\", \"a\", encoding=\"utf8\") # a - 기존 파일에 수정\n",
        "# score_file.write(\"과학 : 80\")\n",
        "# score_file.write(\"\\n코딩 : 100\")\n",
        "# score_file.close()\n",
        "\n",
        "# score_file = open(\"score.txt\", \"r\", encoding=\"utf8\") # r - 기존 파일 읽기\n",
        "# print(score_file.read()) #print(score_file.readline(), end = \"\") - 4번 반복도 가능\n",
        "# score_file.close()\n",
        "\n",
        "score_file = open(\"score.txt\", \"r\", encoding=\"utf8\")\n",
        "while True:\n",
        "  line = score_file.readline()\n",
        "  if not line:\n",
        "    break\n",
        "  print(line, end = \"\")\n",
        "score_file.close()\n",
        "\n",
        "score_file = open(\"score.txt\", \"r\", encoding=\"utf8\")\n",
        "lines = score_file.readlines()\n",
        "for line in lines:\n",
        "  print(line, end = \"\")\n",
        "score_file.close()\n"
      ]
    },
    {
      "cell_type": "code",
      "execution_count": null,
      "metadata": {
        "colab": {
          "base_uri": "https://localhost:8080/"
        },
        "id": "DJh4GoQVx71g",
        "outputId": "94e5661f-1db0-424c-b485-710bf00f2645"
      },
      "outputs": [
        {
          "name": "stdout",
          "output_type": "stream",
          "text": [
            "{'이름': '박명수', '나이': 30, '취미': ['축구', '골프', '코딩']}\n"
          ]
        }
      ],
      "source": [
        "# pickle - 저장된 변수를 가져와서 쓸 수 있게 해주는 라이브러리\n",
        "\n",
        "import pickle\n",
        "\n",
        "# profile_file = open(\"profile.pickle\", \"wb\") # b - binary file\n",
        "# profile = {\"이름\":\"박명수\", \"나이\":30, \"취미\":[\"축구\", \"골프\", \"코딩\"]}\n",
        "# print(profile)\n",
        "# pickle.dump(profile, profile_file) # profile -> profile_file에 저장\n",
        "# profile_file.close()\n",
        "\n",
        "profile_file = open(\"profile.pickle\", \"rb\")\n",
        "profile = pickle.load(profile_file) # 변수 가져옴\n",
        "print(profile)\n",
        "profile_file.close()\n"
      ]
    },
    {
      "cell_type": "code",
      "execution_count": null,
      "metadata": {
        "colab": {
          "base_uri": "https://localhost:8080/"
        },
        "id": "YYSDTNRO8HfZ",
        "outputId": "acc1d104-6713-48a2-97ce-29450caa693e"
      },
      "outputs": [
        {
          "name": "stdout",
          "output_type": "stream",
          "text": [
            "파이썬을 열심히 공부하고 있어요\n"
          ]
        }
      ],
      "source": [
        "# with\n",
        "\n",
        "# import pickle\n",
        "\n",
        "# with open(\"profile.pickle\", \"rb\") as profile_file:\n",
        "#     print(pickle.load(profile_file))\n",
        "\n",
        "# with open(\"study.txt\", \"w\", encoding = \"utf8\") as study_file:\n",
        "#    study_file.write(\"파이썬을 열심히 공부하고 있어요\")\n",
        "\n",
        "with open(\"study.txt\", \"r\", encoding = \"utf8\") as study_file:\n",
        "  print(study_file.read())\n"
      ]
    },
    {
      "cell_type": "code",
      "execution_count": null,
      "metadata": {
        "colab": {
          "base_uri": "https://localhost:8080/"
        },
        "id": "VqSRd3y9D_7N",
        "outputId": "ac7d5b62-8ed0-4a15-9a1b-d46f392c2f21"
      },
      "outputs": [
        {
          "name": "stdout",
          "output_type": "stream",
          "text": [
            "마린 유닛이 생성되었습니다.\n",
            "체력 40, 공격력 5\n",
            "\n",
            "탱크 유닛이 생성되었습니다.\n",
            "체력 150, 공격력 35\n",
            "마린 : 1시시 방향으로 공격합니다. [공격력 : 5]\n",
            "탱크 : 2시시 방향으로 공격합니다. [공격력 : 35]\n"
          ]
        }
      ],
      "source": [
        "# 클래스 전\n",
        "\n",
        "name = \"마린\"\n",
        "hp = 40\n",
        "damage = 5\n",
        "print(\"{0} 유닛이 생성되었습니다.\".format(name))\n",
        "print(\"체력 {0}, 공격력 {1}\".format(hp, damage))\n",
        "\n",
        "tank_name = \"탱크\"\n",
        "tank_hp = 150\n",
        "tank_damage = 35\n",
        "print(\"\\n{0} 유닛이 생성되었습니다.\".format(tank_name))\n",
        "print(\"체력 {0}, 공격력 {1}\".format(tank_hp, tank_damage))\n",
        "\n",
        "def attack(name, location, damage):\n",
        "  print(\"{0} : {1}시 방향으로 공격합니다. [공격력 : {2}]\".format(name, location, damage))\n",
        "\n",
        "attack(name, \"1시\", damage)\n",
        "attack(tank_name, \"2시\", tank_damage)"
      ]
    },
    {
      "cell_type": "code",
      "execution_count": null,
      "metadata": {
        "colab": {
          "base_uri": "https://localhost:8080/"
        },
        "id": "jX8PpIFJF502",
        "outputId": "0423b0d8-bc9f-426b-c6a1-e04506ff08d8"
      },
      "outputs": [
        {
          "name": "stdout",
          "output_type": "stream",
          "text": [
            "마린 유닛이 생성되었습니다.\n",
            "체력 40, 공격력 5\n",
            "마린 유닛이 생성되었습니다.\n",
            "체력 40, 공격력 5\n",
            "유닛 이름 : 마린, 공격력 : 5\n",
            "마린는 현재 스팀팩 상태입니다.\n"
          ]
        }
      ],
      "source": [
        "# 클래스\n",
        "class Unit: # Unit = 인스턴스\n",
        "  def __init__(self, name, hp, damage): # init = 생성자\n",
        "    self.name = name # self.~~ = 멤버변수\n",
        "    self.hp = hp\n",
        "    self.damage = damage\n",
        "    print(\"{0} 유닛이 생성되었습니다.\".format(self.name))\n",
        "    print(\"체력 {0}, 공격력 {1}\".format(self.hp, self.damage))\n",
        "\n",
        "marine1 = Unit(\"마린\", 40, 5)\n",
        "marine2 = Unit(\"마린\", 40, 5)\n",
        "print(\"유닛 이름 : {0}, 공격력 : {1}\".format(marine2.name, marine2.damage))\n",
        "\n",
        "marine2.steam = True # marine1에는 steam이 없음(선언 x)\n",
        "if marine2.steam == True:\n",
        "  print(\"{0}은 현재 스팀팩 상태입니다.\".format(marine2.name))\n"
      ]
    },
    {
      "cell_type": "code",
      "execution_count": null,
      "metadata": {
        "colab": {
          "base_uri": "https://localhost:8080/"
        },
        "id": "SwIGEc1CHMN9",
        "outputId": "528654c7-6243-4393-b86e-d601496917bf"
      },
      "outputs": [
        {
          "name": "stdout",
          "output_type": "stream",
          "text": [
            "파이어뱃 : 5시 방향으로 적군을 공격 합니다. [공격력 16\n",
            "파이어뱃 : 25 데미지를 입었습니다.\n",
            "파이어뱃 : 현재 체력은 25 입니다.\n",
            "파이어뱃 : 25 데미지를 입었습니다.\n",
            "파이어뱃 : 현재 체력은 0 입니다.\n",
            "파이어뱃 : 파괴되었습니다.\n"
          ]
        }
      ],
      "source": [
        "# 메소드\n",
        "class AttackUnit:\n",
        "    def __init__(self, name, hp, damage):\n",
        "      self.name = name\n",
        "      self.hp = hp\n",
        "      self.damage = damage\n",
        "    \n",
        "    def attack(self, location):\n",
        "      print(\"{0} : {1} 방향으로 적군을 공격 합니다. [공격력 {2}]\".format(self.name, location, self.damage))\n",
        "\n",
        "    def damaged(self, damage):\n",
        "      print(\"{0} : {1} 데미지를 입었습니다.\".format(self.name, damage))\n",
        "      self.hp -= damage\n",
        "      print(\"{0} : 현재 체력은 {1} 입니다.\".format(self.name, self.hp))\n",
        "      if self.hp <= 0:\n",
        "        print(\"{0} : 파괴되었습니다.\".format(self.name))\n",
        "\n",
        "firebat1 = AttackUnit(\"파이어뱃\", 50, 16)\n",
        "\n",
        "firebat1.attack(\"5시\")\n",
        "\n",
        "firebat1.damaged(25)\n",
        "firebat1.damaged(25)\n",
        "\n"
      ]
    },
    {
      "cell_type": "code",
      "execution_count": null,
      "metadata": {
        "colab": {
          "base_uri": "https://localhost:8080/"
        },
        "id": "jTsBN-j-CB6q",
        "outputId": "e9398744-faf5-4364-ce73-54d772327479"
      },
      "outputs": [
        {
          "name": "stdout",
          "output_type": "stream",
          "text": [
            "파이어뱃 : 5시 방향으로 적군을 공격 합니다. [공격력 16]\n"
          ]
        }
      ],
      "source": [
        "# 상속\n",
        "class Unit:\n",
        "  def __init__(self, name, hp):\n",
        "    self.name = name\n",
        "    self.hp = hp\n",
        "\n",
        "class AttackUnit(Unit):\n",
        "    def __init__(self, name, hp, damage):\n",
        "        Unit.__init__(self, name, hp)\n",
        "        self.damage = damage\n",
        "    def attack(self, location):\n",
        "      print(\"{0} : {1} 방향으로 적군을 공격 합니다. [공격력 {2}]\".format(self.name, location, self.damage))\n",
        "\n",
        "    def damaged(self, damage):\n",
        "      print(\"{0} : {1} 데미지를 입었습니다.\".format(self.name, damage))\n",
        "      self.hp -= damage\n",
        "      print(\"{0} : 현재 체력은 {1} 입니다.\".format(self.name, self.hp))\n",
        "      if self.hp <= 0:\n",
        "        print(\"{0} : 파괴되었습니다.\".format(self.name))\n",
        "\n",
        "firebat1 = AttackUnit(\"파이어뱃\", 50, 16)\n",
        "firebat1.attack(\"5시\")\n"
      ]
    },
    {
      "cell_type": "code",
      "execution_count": null,
      "metadata": {
        "colab": {
          "base_uri": "https://localhost:8080/"
        },
        "id": "W2gC-VzvFCMH",
        "outputId": "9d5c89cd-451f-4c11-c3b1-0daa76bb234b"
      },
      "outputs": [
        {
          "name": "stdout",
          "output_type": "stream",
          "text": [
            "발키리 : 3시 방향으로 날아갑니다. [속도 5]\n"
          ]
        }
      ],
      "source": [
        "# 다중 상속\n",
        "\n",
        "class AttackUnit(Unit):\n",
        "    def __init__(self, name, hp, damage):\n",
        "        Unit.__init__(self, name, hp)\n",
        "        self.damage = damage\n",
        "    def attack(self, location):\n",
        "      print(\"{0} : {1} 방향으로 적군을 공격 합니다. [공격력 {2}]\".format(self.name, location, self.damage))\n",
        "\n",
        "    def damaged(self, damage):\n",
        "      print(\"{0} : {1} 데미지를 입었습니다.\".format(self.name, damage))\n",
        "      self.hp -= damage\n",
        "      print(\"{0} : 현재 체력은 {1} 입니다.\".format(self.name, self.hp))\n",
        "      if self.hp <= 0:\n",
        "        print(\"{0} : 파괴되었습니다.\".format(self.name))\n",
        "\n",
        "class Flyable:\n",
        "  def __init__(self, flying_speed):\n",
        "    self.flying_speed = flying_speed\n",
        "\n",
        "  def fly(self, name, location):\n",
        "    print(\"{0} : {1} 방향으로 날아갑니다. [속도 {2}]\".format(name, location, self.flying_speed))\n",
        "\n",
        "class FlyableAttackUnit(AttackUnit, Flyable):\n",
        "  def __init__(self, name, hp, damage, flying_speed):\n",
        "    AttackUnit.__init__(self, name, hp, damage)\n",
        "    Flyable.__init__(self, flying_speed)\n",
        "\n",
        "valkyrie = FlyableAttackUnit(\"발키리\", 200, 6, 5)\n",
        "valkyrie.fly(valkyrie.name, \"3시\")"
      ]
    },
    {
      "cell_type": "code",
      "execution_count": null,
      "metadata": {
        "colab": {
          "base_uri": "https://localhost:8080/"
        },
        "id": "ckGOh3zTIkxa",
        "outputId": "08f0df5d-c147-48e8-dc82-f987bb20603a"
      },
      "outputs": [
        {
          "name": "stdout",
          "output_type": "stream",
          "text": [
            "[지상 유닛 이동]\n",
            "벌쳐 : 11시 방향으로 이동합니다. [속도 10]\n",
            "[공중 유닛 이동]\n",
            "배틀크루져 : 9시 방향으로 날아갑니다. [속도 3]\n"
          ]
        }
      ],
      "source": [
        "# 메소드 오버라이딩\n",
        "\n",
        "class Unit:\n",
        "  def __init__(self, name, hp, speed):\n",
        "    self.name = name\n",
        "    self.hp = hp\n",
        "    self.speed = speed\n",
        "\n",
        "  def move(self, location):\n",
        "    print(\"[지상 유닛 이동]\")\n",
        "    print(\"{0} : {1} 방향으로 이동합니다. [속도 {2}]\".format(self.name, location, self.speed))\n",
        "\n",
        "class AttackUnit(Unit):\n",
        "    def __init__(self, name, hp, speed, damage):\n",
        "        Unit.__init__(self, name, hp, speed)\n",
        "        self.damage = damage\n",
        "    def attack(self, location):\n",
        "      print(\"{0} : {1} 방향으로 적군을 공격 합니다. [공격력 {2}]\".format(self.name, location, self.damage))\n",
        "\n",
        "    def damaged(self, damage):\n",
        "      print(\"{0} : {1} 데미지를 입었습니다.\".format(self.name, damage))\n",
        "      self.hp -= damage\n",
        "      print(\"{0} : 현재 체력은 {1} 입니다.\".format(self.name, self.hp))\n",
        "      if self.hp <= 0:\n",
        "        print(\"{0} : 파괴되었습니다.\".format(self.name))\n",
        "\n",
        "class Flyable:\n",
        "  def __init__(self, flying_speed):\n",
        "    self.flying_speed = flying_speed\n",
        "\n",
        "  def fly(self, name, location):\n",
        "    print(\"{0} : {1} 방향으로 날아갑니다. [속도 {2}]\".format(name, location, self.flying_speed))\n",
        "\n",
        "class FlyableAttackUnit(AttackUnit, Flyable):\n",
        "  def __init__(self, name, hp, damage, flying_speed):\n",
        "    AttackUnit.__init__(self, name, hp, 0, damage) # 지상 스피드 0\n",
        "    Flyable.__init__(self, flying_speed)\n",
        "\n",
        "  def move(self, location):\n",
        "    print(\"[공중 유닛 이동]\")\n",
        "    self.fly(self.name, location)\n",
        "\n",
        "vulture = AttackUnit(\"벌쳐\", 80, 10, 20)\n",
        "Battlecruiser = FlyableAttackUnit(\"배틀크루져\", 500, 25, 3)\n",
        "\n",
        "vulture.move(\"11시\")\n",
        "# Battlecruiser.fly(Battlecruiser.name, \"9시\")\n",
        "Battlecruiser.move(\"9시\")\n",
        "\n",
        "# class BuildingUnit(Unit):\n",
        "#   def __init__(self, name, hp, location):\n",
        "#     pass\n",
        "\n",
        "# supply_depot = BuildingUnit(\"서플라이 디폿\", 500, \"7시\") # pass 걸려있어서 그냥 넘어감\n",
        "\n",
        "class BuildingUnit(Unit):\n",
        "   def __init__(self, name, hp, location):\n",
        "     super().__init__(name, hp, 0) #super 쓸때는 self X\n",
        "     self.location = location"
      ]
    },
    {
      "cell_type": "code",
      "execution_count": null,
      "metadata": {
        "colab": {
          "base_uri": "https://localhost:8080/"
        },
        "id": "f1zEqhDTPLmR",
        "outputId": "9a79645b-ef4a-4636-a430-3ed956593d71"
      },
      "outputs": [
        {
          "name": "stdout",
          "output_type": "stream",
          "text": [
            "unit 생성자\n",
            "flyable 생성자\n"
          ]
        }
      ],
      "source": [
        "class unit:\n",
        "  def __init__(self):\n",
        "    print(\"unit 생성자\")\n",
        "\n",
        "class flyable:\n",
        "  def __init__(self):\n",
        "    print(\"flyable 생성자\")\n",
        "\n",
        "class flyableunit(unit, flyable):\n",
        "  def __init__(self):\n",
        "    #super().__init__() 쓰면 앞에거만 받아오므로 밑에 처럼 두개 다 선언하는게 맞음\n",
        "    unit.__init__(self)\n",
        "    flyable.__init__(self)\n",
        "\n",
        "dropship = flyableunit()"
      ]
    },
    {
      "cell_type": "code",
      "execution_count": null,
      "metadata": {
        "colab": {
          "base_uri": "https://localhost:8080/"
        },
        "id": "j-x6kRI5gR2v",
        "outputId": "590c95d0-4ca7-4eaa-a310-c1e5a34bf065"
      },
      "outputs": [
        {
          "name": "stdout",
          "output_type": "stream",
          "text": [
            "나누기 전용 계산기입니다.\n",
            "첫 번째 숫자를 입력하세요 : 3\n",
            "두 번째 숫자를 입력하세요 : 2\n",
            "3 / 2 = 1\n"
          ]
        }
      ],
      "source": [
        "# 예외처리 try / exception\n",
        "\n",
        "# try:\n",
        "#   print(\"나누기 전용 계산기입니다.\")\n",
        "#   num1 = int(input(\"첫 번째 숫자를 입력하세요 : \"))\n",
        "#   num2 = int(input(\"두 번째 숫자를 입력하세요 : \"))\n",
        "#   print(\"{0} / {1} = {2}\".format(num1, num2, int(num1/num2)))\n",
        "# except ValueError:\n",
        "#   print(\"에러! 잘못된 값을 입력하였습니다.\")\n",
        "# except ZeroDivisionError as err:\n",
        "#   print(err)\n",
        "\n",
        "try:\n",
        "  print(\"나누기 전용 계산기입니다.\")\n",
        "  nums = []\n",
        "  nums.append(int(input(\"첫 번째 숫자를 입력하세요 : \")))\n",
        "  nums.append(int(input(\"두 번째 숫자를 입력하세요 : \")))\n",
        "  nums.append(int(nums[0] / nums[1]))\n",
        "  print(\"{0} / {1} = {2}\".format(nums[0], nums[1], nums[2]))\n",
        "except ValueError:\n",
        "  print(\"에러! 잘못된 값을 입력하였습니다.\")\n",
        "except ZeroDivisionError as err:\n",
        "  print(err)\n",
        "except Exception as err:\n",
        "  print(err)\n",
        "except:\n",
        "  print(\"알 수 없는 에러가 발생하였습니다.\")"
      ]
    },
    {
      "cell_type": "code",
      "execution_count": null,
      "metadata": {
        "colab": {
          "background_save": true,
          "base_uri": "https://localhost:8080/"
        },
        "id": "Z6frYiwBjrlI",
        "outputId": "e83a06c5-bf1f-4674-a329-675385b89152"
      },
      "outputs": [
        {
          "name": "stdout",
          "output_type": "stream",
          "text": [
            "한자리 숫자 나누기 전용 계산기\n"
          ]
        }
      ],
      "source": [
        "#에러 발생시키기, 사용자 정의 에러\n",
        "class BigNumberError(Exception):\n",
        "  def __init__(self, msg):\n",
        "      self.msg = msg\n",
        "  \n",
        "  def __str__(self):\n",
        "      return self.msg\n",
        "\n",
        "try:\n",
        "  print(\"한자리 숫자 나누기 전용 계산기\")\n",
        "  num1 = int(input(\"첫 번째 숫자를 입력하세요 : \"))\n",
        "  num2 = int(input(\"두 번째 숫자를 입력하세요 : \"))\n",
        "  if num1 >= 10 or num2 >= 10:\n",
        "    raise BigNumberError(\"입력값 : {0}, {1}\".format(num1, num2))\n",
        "  print(\"{0} / {1} = {2}\".format(num1, num2, int(num1/num2)))\n",
        "except ValueError:\n",
        "  print(\"잘못된 값을 입력하였습니다. 한 자리 숫자만 입력하세요.\")\n",
        "except BigNumberError as err:\n",
        "  print(\"에러가 발생하였습니다. 한 자리 숫자만 입력하세요.\")\n",
        "  print(err)\n",
        "finally:\n",
        "  print(\"계산기를 이용해 주셔서 감사합니다.\")"
      ]
    },
    {
      "cell_type": "code",
      "execution_count": null,
      "metadata": {
        "id": "TmJAEjE2KA1g"
      },
      "outputs": [],
      "source": [
        "# 모듈 - 같은 디렉토리에 있어야함\n",
        "import Theater_module as mv\n",
        "Theater_module.price(3) #mv.price(3)\n",
        "Theater_module.price_morning(4) #mv.price_morning(4)\n",
        "Theater_module.price_soldier(5)\n",
        "\n",
        "from theater_module import * #price, price_morning - price_soldier 제외한 함수만 가져옴\n",
        "# from theater_module import price_soldier as price - price_solider만 가져와서 단축가능\n",
        "price(3)\n",
        "price_morning(4)\n",
        "price_solier(5)"
      ]
    },
    {
      "cell_type": "code",
      "execution_count": null,
      "metadata": {
        "id": "jC6vS1LHOf8R"
      },
      "outputs": [],
      "source": [
        "from google.colab import drive\n",
        "drive.mount('/content/drive')"
      ]
    },
    {
      "cell_type": "code",
      "execution_count": null,
      "metadata": {
        "id": "OMcFU9sgWaYb"
      },
      "outputs": [],
      "source": [
        "# 패키지\n"
      ]
    },
    {
      "cell_type": "code",
      "execution_count": null,
      "metadata": {
        "id": "O_3nAWgpW7Fd"
      },
      "outputs": [],
      "source": [
        "# travel 폴더 생성\n",
        "\n",
        "#thailand.py 생성\n",
        "class ThailandPackage:\n",
        "  def detail(self):\n",
        "    print(\"[태국 패키지 3박 5일] 방콕, 파타야 여행 (야시장 투어) 50만원\")\n",
        "#모듈 외부 호출, 직접 실행\n",
        "if __name__ == \"__main__\":\n",
        "  print(\"Thailand 모듈을 직접 실행\")\n",
        "  trip_to = ThailandPackage()\n",
        "  trip_to.detail()\n",
        "else:\n",
        "  print(\"Thailand 외부에서 모듈 호출\")\n",
        "\n",
        "#vietnam.py 생성\n",
        "class VietnamPackage:\n",
        "  def detail(self):\n",
        "    print(\"[배트남 패키지 3박 5일] 다낭 효도 여행 60만원\")\n",
        "\n",
        "#__init__.py 생성\n",
        "__all__ = [\"vietnam\", \"thailand\"]\n",
        "\n",
        "\n",
        "import travel.thailand\n",
        "trip_to = travel.thailand.ThailandPackage()\n",
        "trip_to.detail()\n",
        "\n",
        "from travel import vietnam\n",
        "trip_to = vietnam.vietnampackage()\n",
        "trip_to.detail()\n",
        "\n",
        "## __init__에 선언해주면 되는 것\n",
        "from travel import *\n",
        "trip_to = vietnam.vietnampackage()\n",
        "trip_to.detail()\n",
        "\n"
      ]
    },
    {
      "cell_type": "code",
      "source": [
        "#패키지, 모듈 위치\n",
        "import inspect\n",
        "import random\n",
        "#from travel import *\n",
        "print(inspect.getfile(random))\n",
        "#print(inspect.getfile(thailand))"
      ],
      "metadata": {
        "colab": {
          "base_uri": "https://localhost:8080/"
        },
        "id": "UxcnOmJLqu3S",
        "outputId": "cd094db4-1dd5-472a-e724-417af44e76dd"
      },
      "execution_count": null,
      "outputs": [
        {
          "output_type": "stream",
          "name": "stdout",
          "text": [
            "/usr/lib/python3.7/random.py\n"
          ]
        }
      ]
    },
    {
      "cell_type": "code",
      "source": [
        "# pip install - pypi에 접속 -> browse\n",
        "# !pip install beautifulsoup4\n",
        "# !pip list\n",
        "# !pip install --upgrade beautifulsoup4\n",
        "# !pip uninstall beautifulsoup4\n",
        "from bs4 import BeautifulSoup\n",
        "soup = BeautifulSoup(\"<p>Some<b>bad<i>HTML\")\n",
        "print(soup.prettify())\n"
      ],
      "metadata": {
        "colab": {
          "base_uri": "https://localhost:8080/"
        },
        "id": "Tazrfb6xrb8L",
        "outputId": "a3c1ced4-9293-470f-d51b-772badef6020"
      },
      "execution_count": null,
      "outputs": [
        {
          "output_type": "stream",
          "name": "stdout",
          "text": [
            "<html>\n",
            " <body>\n",
            "  <p>\n",
            "   Some\n",
            "   <b>\n",
            "    bad\n",
            "    <i>\n",
            "     HTML\n",
            "    </i>\n",
            "   </b>\n",
            "  </p>\n",
            " </body>\n",
            "</html>\n",
            "Package                       Version\n",
            "----------------------------- ----------------------------\n",
            "absl-py                       1.2.0\n",
            "aiohttp                       3.8.1\n",
            "aiosignal                     1.2.0\n",
            "alabaster                     0.7.12\n",
            "albumentations                1.2.1\n",
            "altair                        4.2.0\n",
            "appdirs                       1.4.4\n",
            "arviz                         0.12.1\n",
            "astor                         0.8.1\n",
            "astropy                       4.3.1\n",
            "astunparse                    1.6.3\n",
            "async-timeout                 4.0.2\n",
            "asynctest                     0.13.0\n",
            "atari-py                      0.2.9\n",
            "atomicwrites                  1.4.1\n",
            "attrs                         22.1.0\n",
            "audioread                     2.1.9\n",
            "autograd                      1.4\n",
            "Babel                         2.10.3\n",
            "backcall                      0.2.0\n",
            "beautifulsoup4                4.6.3\n",
            "bleach                        5.0.1\n",
            "blis                          0.7.8\n",
            "bokeh                         2.3.3\n",
            "branca                        0.5.0\n",
            "bs4                           0.0.1\n",
            "CacheControl                  0.12.11\n",
            "cached-property               1.5.2\n",
            "cachetools                    4.2.4\n",
            "catalogue                     2.0.8\n",
            "certifi                       2022.6.15\n",
            "cffi                          1.15.1\n",
            "cftime                        1.6.1\n",
            "chardet                       3.0.4\n",
            "charset-normalizer            2.1.0\n",
            "click                         7.1.2\n",
            "clikit                        0.6.2\n",
            "cloudpickle                   1.3.0\n",
            "cmake                         3.22.6\n",
            "cmdstanpy                     1.0.4\n",
            "colorcet                      3.0.0\n",
            "colorlover                    0.3.0\n",
            "community                     1.0.0b1\n",
            "contextlib2                   0.5.5\n",
            "convertdate                   2.4.0\n",
            "crashtest                     0.3.1\n",
            "crcmod                        1.7\n",
            "cufflinks                     0.17.3\n",
            "cvxopt                        1.3.0\n",
            "cvxpy                         1.2.1\n",
            "cycler                        0.11.0\n",
            "cymem                         2.0.6\n",
            "Cython                        0.29.32\n",
            "daft                          0.0.4\n",
            "dask                          2.12.0\n",
            "datascience                   0.17.5\n",
            "debugpy                       1.0.0\n",
            "decorator                     4.4.2\n",
            "defusedxml                    0.7.1\n",
            "deprecat                      2.1.1\n",
            "descartes                     1.1.0\n",
            "dill                          0.3.5.1\n",
            "distributed                   1.25.3\n",
            "dlib                          19.24.0\n",
            "dm-tree                       0.1.7\n",
            "docutils                      0.17.1\n",
            "dopamine-rl                   1.0.5\n",
            "earthengine-api               0.1.318\n",
            "easydict                      1.9\n",
            "ecos                          2.0.10\n",
            "editdistance                  0.5.3\n",
            "en-core-web-sm                3.4.0\n",
            "entrypoints                   0.4\n",
            "ephem                         4.1.3\n",
            "et-xmlfile                    1.1.0\n",
            "etils                         0.7.1\n",
            "fa2                           0.3.5\n",
            "fastai                        2.7.9\n",
            "fastcore                      1.5.16\n",
            "fastdownload                  0.0.7\n",
            "fastdtw                       0.3.4\n",
            "fastjsonschema                2.16.1\n",
            "fastprogress                  1.0.3\n",
            "fastrlock                     0.8\n",
            "feather-format                0.4.1\n",
            "filelock                      3.8.0\n",
            "firebase-admin                4.4.0\n",
            "fix-yahoo-finance             0.0.22\n",
            "Flask                         1.1.4\n",
            "flatbuffers                   2.0\n",
            "folium                        0.12.1.post1\n",
            "frozenlist                    1.3.1\n",
            "future                        0.16.0\n",
            "gast                          0.5.3\n",
            "GDAL                          2.2.2\n",
            "gdown                         4.4.0\n",
            "gensim                        3.6.0\n",
            "geographiclib                 1.52\n",
            "geopy                         1.17.0\n",
            "gin-config                    0.5.0\n",
            "glob2                         0.7\n",
            "google                        2.0.3\n",
            "google-api-core               1.31.6\n",
            "google-api-python-client      1.12.11\n",
            "google-auth                   1.35.0\n",
            "google-auth-httplib2          0.0.4\n",
            "google-auth-oauthlib          0.4.6\n",
            "google-cloud-bigquery         1.21.0\n",
            "google-cloud-bigquery-storage 1.1.2\n",
            "google-cloud-core             1.0.3\n",
            "google-cloud-datastore        1.8.0\n",
            "google-cloud-firestore        1.7.0\n",
            "google-cloud-language         1.2.0\n",
            "google-cloud-storage          1.18.1\n",
            "google-cloud-translate        1.5.0\n",
            "google-colab                  1.0.0\n",
            "google-pasta                  0.2.0\n",
            "google-resumable-media        0.4.1\n",
            "googleapis-common-protos      1.56.4\n",
            "googledrivedownloader         0.4\n",
            "graphviz                      0.10.1\n",
            "greenlet                      1.1.2\n",
            "grpcio                        1.47.0\n",
            "gspread                       3.4.2\n",
            "gspread-dataframe             3.0.8\n",
            "gym                           0.17.3\n",
            "h5py                          3.1.0\n",
            "HeapDict                      1.0.1\n",
            "hijri-converter               2.2.4\n",
            "holidays                      0.14.2\n",
            "holoviews                     1.14.9\n",
            "html5lib                      1.0.1\n",
            "httpimport                    0.5.18\n",
            "httplib2                      0.17.4\n",
            "httplib2shim                  0.0.3\n",
            "httpstan                      4.6.1\n",
            "humanize                      0.5.1\n",
            "hyperopt                      0.1.2\n",
            "idna                          2.10\n",
            "imageio                       2.9.0\n",
            "imagesize                     1.4.1\n",
            "imbalanced-learn              0.8.1\n",
            "imblearn                      0.0\n",
            "imgaug                        0.4.0\n",
            "importlib-metadata            4.12.0\n",
            "importlib-resources           5.9.0\n",
            "imutils                       0.5.4\n",
            "inflect                       2.1.0\n",
            "intel-openmp                  2022.1.0\n",
            "intervaltree                  2.1.0\n",
            "ipykernel                     5.3.4\n",
            "ipython                       7.9.0\n",
            "ipython-genutils              0.2.0\n",
            "ipython-sql                   0.3.9\n",
            "ipywidgets                    7.7.1\n",
            "itsdangerous                  1.1.0\n",
            "jax                           0.3.14\n",
            "jaxlib                        0.3.14+cuda11.cudnn805\n",
            "jieba                         0.42.1\n",
            "Jinja2                        2.11.3\n",
            "joblib                        1.1.0\n",
            "jpeg4py                       0.1.4\n",
            "jsonschema                    4.3.3\n",
            "jupyter-client                6.1.12\n",
            "jupyter-console               6.1.0\n",
            "jupyter-core                  4.11.1\n",
            "jupyterlab-widgets            1.1.1\n",
            "kaggle                        1.5.12\n",
            "kapre                         0.3.7\n",
            "keras                         2.8.0\n",
            "Keras-Preprocessing           1.1.2\n",
            "keras-vis                     0.4.1\n",
            "kiwisolver                    1.4.4\n",
            "korean-lunar-calendar         0.2.1\n",
            "langcodes                     3.3.0\n",
            "libclang                      14.0.6\n",
            "librosa                       0.8.1\n",
            "lightgbm                      2.2.3\n",
            "llvmlite                      0.39.0\n",
            "lmdb                          0.99\n",
            "LunarCalendar                 0.0.9\n",
            "lxml                          4.9.1\n",
            "Markdown                      3.4.1\n",
            "MarkupSafe                    2.0.1\n",
            "marshmallow                   3.17.0\n",
            "matplotlib                    3.2.2\n",
            "matplotlib-venn               0.11.7\n",
            "missingno                     0.5.1\n",
            "mistune                       0.8.4\n",
            "mizani                        0.6.0\n",
            "mkl                           2019.0\n",
            "mlxtend                       0.14.0\n",
            "more-itertools                8.14.0\n",
            "moviepy                       0.2.3.5\n",
            "mpmath                        1.2.1\n",
            "msgpack                       1.0.4\n",
            "multidict                     6.0.2\n",
            "multitasking                  0.0.11\n",
            "murmurhash                    1.0.7\n",
            "music21                       5.5.0\n",
            "natsort                       5.5.0\n",
            "nbconvert                     5.6.1\n",
            "nbformat                      5.4.0\n",
            "netCDF4                       1.6.0\n",
            "networkx                      2.6.3\n",
            "nibabel                       3.0.2\n",
            "nltk                          3.7\n",
            "notebook                      5.3.1\n",
            "numba                         0.56.0\n",
            "numexpr                       2.8.3\n",
            "numpy                         1.21.6\n",
            "oauth2client                  4.1.3\n",
            "oauthlib                      3.2.0\n",
            "okgrade                       0.4.3\n",
            "opencv-contrib-python         4.6.0.66\n",
            "opencv-python                 4.6.0.66\n",
            "opencv-python-headless        4.6.0.66\n",
            "openpyxl                      3.0.10\n",
            "opt-einsum                    3.3.0\n",
            "osqp                          0.6.2.post0\n",
            "packaging                     21.3\n",
            "palettable                    3.3.0\n",
            "pandas                        1.3.5\n",
            "pandas-datareader             0.9.0\n",
            "pandas-gbq                    0.13.3\n",
            "pandas-profiling              1.4.1\n",
            "pandocfilters                 1.5.0\n",
            "panel                         0.12.1\n",
            "param                         1.12.2\n",
            "parso                         0.8.3\n",
            "pastel                        0.2.1\n",
            "pathlib                       1.0.1\n",
            "pathy                         0.6.2\n",
            "patsy                         0.5.2\n",
            "pep517                        0.13.0\n",
            "pexpect                       4.8.0\n",
            "pickleshare                   0.7.5\n",
            "Pillow                        7.1.2\n",
            "pip                           21.1.3\n",
            "pip-tools                     6.2.0\n",
            "plotly                        5.5.0\n",
            "plotnine                      0.6.0\n",
            "pluggy                        0.7.1\n",
            "pooch                         1.6.0\n",
            "portpicker                    1.3.9\n",
            "prefetch-generator            1.0.1\n",
            "preshed                       3.0.6\n",
            "prettytable                   3.3.0\n",
            "progressbar2                  3.38.0\n",
            "promise                       2.3\n",
            "prompt-toolkit                2.0.10\n",
            "prophet                       1.1\n",
            "protobuf                      3.17.3\n",
            "psutil                        5.4.8\n",
            "psycopg2                      2.9.3\n",
            "ptyprocess                    0.7.0\n",
            "py                            1.11.0\n",
            "pyarrow                       6.0.1\n",
            "pyasn1                        0.4.8\n",
            "pyasn1-modules                0.2.8\n",
            "pycocotools                   2.0.4\n",
            "pycparser                     2.21\n",
            "pyct                          0.4.8\n",
            "pydantic                      1.9.1\n",
            "pydata-google-auth            1.4.0\n",
            "pydot                         1.3.0\n",
            "pydot-ng                      2.0.0\n",
            "pydotplus                     2.0.2\n",
            "PyDrive                       1.3.1\n",
            "pyemd                         0.5.1\n",
            "pyerfa                        2.0.0.1\n",
            "pyglet                        1.5.0\n",
            "Pygments                      2.6.1\n",
            "pygobject                     3.26.1\n",
            "pylev                         1.4.0\n",
            "pymc3                         3.11.5\n",
            "PyMeeus                       0.5.11\n",
            "pymongo                       4.2.0\n",
            "pymystem3                     0.2.0\n",
            "PyOpenGL                      3.1.6\n",
            "pyparsing                     3.0.9\n",
            "pyrsistent                    0.18.1\n",
            "pysimdjson                    3.2.0\n",
            "pysndfile                     1.3.8\n",
            "PySocks                       1.7.1\n",
            "pystan                        3.3.0\n",
            "pytest                        3.6.4\n",
            "python-apt                    0.0.0\n",
            "python-chess                  0.23.11\n",
            "python-dateutil               2.8.2\n",
            "python-louvain                0.16\n",
            "python-slugify                6.1.2\n",
            "python-utils                  3.3.3\n",
            "pytz                          2022.1\n",
            "pyviz-comms                   2.2.0\n",
            "PyWavelets                    1.3.0\n",
            "PyYAML                        3.13\n",
            "pyzmq                         23.2.0\n",
            "qdldl                         0.1.5.post2\n",
            "qudida                        0.0.4\n",
            "regex                         2022.6.2\n",
            "requests                      2.23.0\n",
            "requests-oauthlib             1.3.1\n",
            "resampy                       0.4.0\n",
            "rpy2                          3.4.5\n",
            "rsa                           4.9\n",
            "scikit-image                  0.18.3\n",
            "scikit-learn                  1.0.2\n",
            "scipy                         1.7.3\n",
            "screen-resolution-extra       0.0.0\n",
            "scs                           3.2.0\n",
            "seaborn                       0.11.2\n",
            "semver                        2.13.0\n",
            "Send2Trash                    1.8.0\n",
            "setuptools                    57.4.0\n",
            "setuptools-git                1.2\n",
            "Shapely                       1.8.2\n",
            "six                           1.15.0\n",
            "sklearn                       0.0\n",
            "sklearn-pandas                1.8.0\n",
            "smart-open                    5.2.1\n",
            "snowballstemmer               2.2.0\n",
            "sortedcontainers              2.4.0\n",
            "SoundFile                     0.10.3.post1\n",
            "spacy                         3.4.1\n",
            "spacy-legacy                  3.0.9\n",
            "spacy-loggers                 1.0.3\n",
            "Sphinx                        1.8.6\n",
            "sphinxcontrib-serializinghtml 1.1.5\n",
            "sphinxcontrib-websupport      1.2.4\n",
            "SQLAlchemy                    1.4.40\n",
            "sqlparse                      0.4.2\n",
            "srsly                         2.4.4\n",
            "statsmodels                   0.10.2\n",
            "sympy                         1.7.1\n",
            "tables                        3.7.0\n",
            "tabulate                      0.8.10\n",
            "tblib                         1.7.0\n",
            "tenacity                      8.0.1\n",
            "tensorboard                   2.8.0\n",
            "tensorboard-data-server       0.6.1\n",
            "tensorboard-plugin-wit        1.8.1\n",
            "tensorflow                    2.8.2+zzzcolab20220719082949\n",
            "tensorflow-datasets           4.6.0\n",
            "tensorflow-estimator          2.8.0\n",
            "tensorflow-gcs-config         2.8.0\n",
            "tensorflow-hub                0.12.0\n",
            "tensorflow-io-gcs-filesystem  0.26.0\n",
            "tensorflow-metadata           1.9.0\n",
            "tensorflow-probability        0.16.0\n",
            "termcolor                     1.1.0\n",
            "terminado                     0.13.3\n",
            "testpath                      0.6.0\n",
            "text-unidecode                1.3\n",
            "textblob                      0.15.3\n",
            "Theano-PyMC                   1.1.2\n",
            "thinc                         8.1.0\n",
            "threadpoolctl                 3.1.0\n",
            "tifffile                      2021.11.2\n",
            "toml                          0.10.2\n",
            "tomli                         2.0.1\n",
            "toolz                         0.12.0\n",
            "torch                         1.12.1+cu113\n",
            "torchaudio                    0.12.1+cu113\n",
            "torchsummary                  1.5.1\n",
            "torchtext                     0.13.1\n",
            "torchvision                   0.13.1+cu113\n",
            "tornado                       5.1.1\n",
            "tqdm                          4.64.0\n",
            "traitlets                     5.1.1\n",
            "tweepy                        3.10.0\n",
            "typeguard                     2.7.1\n",
            "typer                         0.4.2\n",
            "typing-extensions             4.1.1\n",
            "tzlocal                       1.5.1\n",
            "ujson                         5.4.0\n",
            "uritemplate                   3.0.1\n",
            "urllib3                       1.24.3\n",
            "vega-datasets                 0.9.0\n",
            "wasabi                        0.10.1\n",
            "wcwidth                       0.2.5\n",
            "webargs                       8.2.0\n",
            "webencodings                  0.5.1\n",
            "Werkzeug                      1.0.1\n",
            "wheel                         0.37.1\n",
            "widgetsnbextension            3.6.1\n",
            "wordcloud                     1.8.2.2\n",
            "wrapt                         1.14.1\n",
            "xarray                        0.20.2\n",
            "xarray-einstats               0.2.2\n",
            "xgboost                       0.90\n",
            "xkit                          0.0.0\n",
            "xlrd                          1.1.0\n",
            "xlwt                          1.3.0\n",
            "yarl                          1.8.1\n",
            "yellowbrick                   1.4\n",
            "zict                          2.2.0\n",
            "zipp                          3.8.1\n"
          ]
        }
      ]
    },
    {
      "cell_type": "code",
      "execution_count": null,
      "metadata": {
        "id": "b01FsZlyW8EJ",
        "colab": {
          "base_uri": "https://localhost:8080/"
        },
        "outputId": "665e1baf-c3ee-48a9-acf3-2a551dcc887c"
      },
      "outputs": [
        {
          "output_type": "stream",
          "name": "stdout",
          "text": [
            "['In', 'Out', '_', '__', '___', '__builtin__', '__builtins__', '__doc__', '__loader__', '__name__', '__package__', '__spec__', '_dh', '_i', '_i1', '_ih', '_ii', '_iii', '_oh', 'exit', 'get_ipython', 'quit']\n",
            "['In', 'Out', '_', '__', '___', '__builtin__', '__builtins__', '__doc__', '__loader__', '__name__', '__package__', '__spec__', '_dh', '_i', '_i1', '_ih', '_ii', '_iii', '_oh', 'exit', 'get_ipython', 'quit', 'random']\n",
            "['In', 'Out', '_', '__', '___', '__builtin__', '__builtins__', '__doc__', '__loader__', '__name__', '__package__', '__spec__', '_dh', '_i', '_i1', '_ih', '_ii', '_iii', '_oh', 'exit', 'get_ipython', 'pickle', 'quit', 'random']\n",
            "['BPF', 'LOG4', 'NV_MAGICCONST', 'RECIP_BPF', 'Random', 'SG_MAGICCONST', 'SystemRandom', 'TWOPI', '_BuiltinMethodType', '_MethodType', '_Sequence', '_Set', '__all__', '__builtins__', '__cached__', '__doc__', '__file__', '__loader__', '__name__', '__package__', '__spec__', '_acos', '_bisect', '_ceil', '_cos', '_e', '_exp', '_inst', '_itertools', '_log', '_os', '_pi', '_random', '_sha512', '_sin', '_sqrt', '_test', '_test_generator', '_urandom', '_warn', 'betavariate', 'choice', 'choices', 'expovariate', 'gammavariate', 'gauss', 'getrandbits', 'getstate', 'lognormvariate', 'normalvariate', 'paretovariate', 'randint', 'random', 'randrange', 'sample', 'seed', 'setstate', 'shuffle', 'triangular', 'uniform', 'vonmisesvariate', 'weibullvariate']\n",
            "['__add__', '__class__', '__contains__', '__delattr__', '__delitem__', '__dir__', '__doc__', '__eq__', '__format__', '__ge__', '__getattribute__', '__getitem__', '__gt__', '__hash__', '__iadd__', '__imul__', '__init__', '__init_subclass__', '__iter__', '__le__', '__len__', '__lt__', '__mul__', '__ne__', '__new__', '__reduce__', '__reduce_ex__', '__repr__', '__reversed__', '__rmul__', '__setattr__', '__setitem__', '__sizeof__', '__str__', '__subclasshook__', 'append', 'clear', 'copy', 'count', 'extend', 'index', 'insert', 'pop', 'remove', 'reverse', 'sort']\n",
            "['__add__', '__class__', '__contains__', '__delattr__', '__dir__', '__doc__', '__eq__', '__format__', '__ge__', '__getattribute__', '__getitem__', '__getnewargs__', '__gt__', '__hash__', '__init__', '__init_subclass__', '__iter__', '__le__', '__len__', '__lt__', '__mod__', '__mul__', '__ne__', '__new__', '__reduce__', '__reduce_ex__', '__repr__', '__rmod__', '__rmul__', '__setattr__', '__sizeof__', '__str__', '__subclasshook__', 'capitalize', 'casefold', 'center', 'count', 'encode', 'endswith', 'expandtabs', 'find', 'format', 'format_map', 'index', 'isalnum', 'isalpha', 'isascii', 'isdecimal', 'isdigit', 'isidentifier', 'islower', 'isnumeric', 'isprintable', 'isspace', 'istitle', 'isupper', 'join', 'ljust', 'lower', 'lstrip', 'maketrans', 'partition', 'replace', 'rfind', 'rindex', 'rjust', 'rpartition', 'rsplit', 'rstrip', 'split', 'splitlines', 'startswith', 'strip', 'swapcase', 'title', 'translate', 'upper', 'zfill']\n"
          ]
        }
      ],
      "source": [
        "# 내장 함수(Built in Function) -> dir을 통해 사용할 수 있는 기능 파악\n",
        "#A = input(\"어떤 함수를 좋아하세요?\")\n",
        "print(dir())\n",
        "import random\n",
        "print(dir())\n",
        "import pickle\n",
        "print(dir())\n",
        "print(dir(random))\n",
        "\n",
        "lst = [1, 2, 3]\n",
        "print(dir(lst))\n",
        "\n",
        "name = \"Jim\"\n",
        "print(dir(name))"
      ]
    },
    {
      "cell_type": "code",
      "source": [
        "# 외장 함수\n",
        "# 구글 - list of python modules\n",
        "\n",
        "import glob # 경로 내의 폴더 / 파일 목록 조회\n",
        "print(glob.glob(\"*.py\"))\n",
        "\n",
        "import os #운영체제에서 제공하는 기본 기능\n",
        "print(os.getcwd()) # 현재 디렉토리\n",
        "\n",
        "# folder = \"sample_dir\"\n",
        "# if os.path.exists(folder):\n",
        "#   print(\"이미 존재하는 폴더입니다.\")\n",
        "#   os.rmdir(folder)\n",
        "#   print(folder, \"폴더를 삭제하였습니다.\")\n",
        "# else:\n",
        "#   os.makedirs(folder)\n",
        "#   print(folder, \"폴더를 생성하였습니다.\")\n",
        "\n",
        "print(os.listdir()) # glob과 비슷한 기능\n",
        "\n",
        "import time #시간 관련 함수\n",
        "print(time.localtime())\n",
        "print(time.strftime(\"%Y-%m-%d %H:%M:%S\"))\n",
        "\n",
        "import datetime\n",
        "print(\"오늘 날짜는\", datetime.date.today(), \"입니다.\")\n",
        "today = datetime.date.today() # 오늘 날짜\n",
        "today_100 = datetime.timedelta(days=100) #100일\n",
        "print(\"우리가 만난지 100일은\", today+today_100) # 오늘 + 100일\n"
      ],
      "metadata": {
        "colab": {
          "base_uri": "https://localhost:8080/"
        },
        "id": "EIr_ZJH7TIVp",
        "outputId": "06a10dc5-b390-429b-daf4-04dca199a57a"
      },
      "execution_count": null,
      "outputs": [
        {
          "output_type": "stream",
          "name": "stdout",
          "text": [
            "[]\n",
            "/content\n",
            "['.config', 'drive', 'sample_data']\n",
            "time.struct_time(tm_year=2022, tm_mon=8, tm_mday=16, tm_hour=15, tm_min=47, tm_sec=17, tm_wday=1, tm_yday=228, tm_isdst=0)\n",
            "2022-08-16 15:47:17\n",
            "오늘 날짜는 2022-08-16 입니다.\n",
            "우리가 만난지 100일은 2022-11-24\n"
          ]
        }
      ]
    }
  ],
  "metadata": {
    "colab": {
      "collapsed_sections": [],
      "name": "Basicnote.ipynb",
      "provenance": [],
      "mount_file_id": "1bd32glYMFrv8m5fYi4vlBrU8-YlBRMhQ",
      "authorship_tag": "ABX9TyOWJx5THX4AOOMMFdLnEiv+",
      "include_colab_link": true
    },
    "gpuClass": "standard",
    "kernelspec": {
      "display_name": "Python 3",
      "name": "python3"
    },
    "language_info": {
      "name": "python"
    }
  },
  "nbformat": 4,
  "nbformat_minor": 0
}