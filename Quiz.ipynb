{
  "nbformat": 4,
  "nbformat_minor": 0,
  "metadata": {
    "colab": {
      "name": "Quiz.ipynb",
      "provenance": [],
      "collapsed_sections": [],
      "authorship_tag": "ABX9TyNAjoAaK0auTiy8EyTuM/HS",
      "include_colab_link": true
    },
    "kernelspec": {
      "name": "python3",
      "display_name": "Python 3"
    },
    "language_info": {
      "name": "python"
    }
  },
  "cells": [
    {
      "cell_type": "markdown",
      "metadata": {
        "id": "view-in-github",
        "colab_type": "text"
      },
      "source": [
        "<a href=\"https://colab.research.google.com/github/Minsu-Byun/study/blob/main/Quiz.ipynb\" target=\"_parent\"><img src=\"https://colab.research.google.com/assets/colab-badge.svg\" alt=\"Open In Colab\"/></a>"
      ]
    },
    {
      "cell_type": "code",
      "execution_count": null,
      "metadata": {
        "colab": {
          "base_uri": "https://localhost:8080/"
        },
        "id": "GRi6syVpsMKk",
        "outputId": "22d00b0b-d48f-40d7-ace3-430246e53c46"
      },
      "outputs": [
        {
          "output_type": "stream",
          "name": "stdout",
          "text": [
            "1 2\n",
            "3\n"
          ]
        }
      ],
      "source": [
        "A,B = map(int, input().split()) #int(input())\n",
        "print(A+B)\n"
      ]
    },
    {
      "cell_type": "code",
      "source": [
        "A, B = map(int, input().split())\n",
        "print(A/B)\n"
      ],
      "metadata": {
        "colab": {
          "base_uri": "https://localhost:8080/"
        },
        "id": "O6cDkotxwfcQ",
        "outputId": "0b2b1a3c-6d87-4c50-f276-86238087475a"
      },
      "execution_count": null,
      "outputs": [
        {
          "output_type": "stream",
          "name": "stdout",
          "text": [
            "1 2\n",
            "0.5\n"
          ]
        }
      ]
    },
    {
      "cell_type": "code",
      "source": [
        "A = input() # string(input()) 안댐\n",
        "print(A + '??!') # + 대신 , 쓰면 띄어쓰기가 포함되어 출력"
      ],
      "metadata": {
        "colab": {
          "base_uri": "https://localhost:8080/"
        },
        "id": "pQjVf_dzyABh",
        "outputId": "af2cd75a-b790-4fbe-c2a7-2022354907a8"
      },
      "execution_count": null,
      "outputs": [
        {
          "output_type": "stream",
          "name": "stdout",
          "text": [
            "abc\n",
            "abc??!\n"
          ]
        }
      ]
    },
    {
      "cell_type": "code",
      "source": [
        "print(int(input()) - 543)"
      ],
      "metadata": {
        "colab": {
          "base_uri": "https://localhost:8080/"
        },
        "id": "f5b1W8zFRHzD",
        "outputId": "40e16825-d1b7-4efa-aa9a-925b0e626eb6"
      },
      "execution_count": null,
      "outputs": [
        {
          "output_type": "stream",
          "name": "stdout",
          "text": [
            "2541\n",
            "1998\n"
          ]
        }
      ]
    },
    {
      "cell_type": "code",
      "source": [
        "A = \"http://naver.com\"\n",
        "B = A[7:] # B = A.replace(\"http://\", \"\")\n",
        "C = B[:B.index(\".\")]\n",
        "print(C + \"의 비밀번호는 \" + B[0:3] + str(len(C)) + str(B.count(\"e\")) + \"!\" + \"입니다.\") \n"
      ],
      "metadata": {
        "colab": {
          "base_uri": "https://localhost:8080/"
        },
        "id": "Nm01bPTiyxNV",
        "outputId": "aca9c49a-b668-4215-ab3b-fcee901b11fe"
      },
      "execution_count": null,
      "outputs": [
        {
          "output_type": "stream",
          "name": "stdout",
          "text": [
            "naver의 비밀번호는 nav51!입니다.\n"
          ]
        }
      ]
    },
    {
      "cell_type": "code",
      "source": [
        "from random import *\n",
        "\n",
        "users = range(1, 21) # 1~20 숫자 생성\n",
        "users = list(users)\n",
        "# print(users)\n",
        "\n",
        "shuffle(users)\n",
        "# print(users)\n",
        "\n",
        "winners = sample(users, 4)\n",
        "\n",
        "print(\"당첨자 발표\")\n",
        "print(\"치킨 당첨자 : {0}\".format(winners[0]))\n",
        "print(\"커피 당첨자 : {0}\".format(winners[1:]))\n"
      ],
      "metadata": {
        "id": "heyWI-TryxXH",
        "colab": {
          "base_uri": "https://localhost:8080/"
        },
        "outputId": "01cfaea7-243a-4172-98b7-b55be781d0ed"
      },
      "execution_count": null,
      "outputs": [
        {
          "output_type": "stream",
          "name": "stdout",
          "text": [
            "[1, 2, 3, 4, 5, 6, 7, 8, 9, 10, 11, 12, 13, 14, 15, 16, 17, 18, 19, 20]\n",
            "당첨자 발표\n",
            "치킨 당첨자 : 9\n",
            "커피 당첨자 : [1, 11, 16]\n"
          ]
        }
      ]
    },
    {
      "cell_type": "code",
      "source": [
        "from random import *\n",
        "# A = range(1,51)\n",
        "# B = randrange(1, 50)\n",
        "# print(A)\n",
        "# print(B)\n",
        "count = 0\n",
        "for i in range(1,51):\n",
        "  time = randrange(5, 51)\n",
        "  if 5 <= time <= 15:\n",
        "    print(\"[O] {0}번째 손님 (소요시간 : {1}분)\".format(i, time))\n",
        "    count += 1\n",
        "  else:\n",
        "    print(\"[ ] {0}번째 손님 (소요시간 : {1}분)\".format(i, time))\n",
        "\n",
        "print(\"총 탑승 승객 : {0}분\".format(count))\n"
      ],
      "metadata": {
        "colab": {
          "base_uri": "https://localhost:8080/"
        },
        "id": "5fB3T5tR_v_O",
        "outputId": "edda7b45-ffb2-4022-bd42-8ce10b7302d9"
      },
      "execution_count": null,
      "outputs": [
        {
          "output_type": "stream",
          "name": "stdout",
          "text": [
            "[O] 1번째 손님 (소요시간 : 11분)\n",
            "[O] 2번째 손님 (소요시간 : 9분)\n",
            "[ ] 3번째 손님 (소요시간 : 16분)\n",
            "[ ] 4번째 손님 (소요시간 : 49분)\n",
            "[ ] 5번째 손님 (소요시간 : 40분)\n",
            "[ ] 6번째 손님 (소요시간 : 34분)\n",
            "[ ] 7번째 손님 (소요시간 : 23분)\n",
            "[ ] 8번째 손님 (소요시간 : 28분)\n",
            "[O] 9번째 손님 (소요시간 : 6분)\n",
            "[ ] 10번째 손님 (소요시간 : 29분)\n",
            "[ ] 11번째 손님 (소요시간 : 29분)\n",
            "[ ] 12번째 손님 (소요시간 : 37분)\n",
            "[ ] 13번째 손님 (소요시간 : 28분)\n",
            "[ ] 14번째 손님 (소요시간 : 25분)\n",
            "[ ] 15번째 손님 (소요시간 : 29분)\n",
            "[ ] 16번째 손님 (소요시간 : 41분)\n",
            "[ ] 17번째 손님 (소요시간 : 21분)\n",
            "[O] 18번째 손님 (소요시간 : 7분)\n",
            "[ ] 19번째 손님 (소요시간 : 27분)\n",
            "[ ] 20번째 손님 (소요시간 : 41분)\n",
            "[ ] 21번째 손님 (소요시간 : 33분)\n",
            "[ ] 22번째 손님 (소요시간 : 45분)\n",
            "[O] 23번째 손님 (소요시간 : 6분)\n",
            "[ ] 24번째 손님 (소요시간 : 23분)\n",
            "[ ] 25번째 손님 (소요시간 : 26분)\n",
            "[ ] 26번째 손님 (소요시간 : 40분)\n",
            "[ ] 27번째 손님 (소요시간 : 21분)\n",
            "[ ] 28번째 손님 (소요시간 : 40분)\n",
            "[ ] 29번째 손님 (소요시간 : 32분)\n",
            "[ ] 30번째 손님 (소요시간 : 19분)\n",
            "[ ] 31번째 손님 (소요시간 : 49분)\n",
            "[ ] 32번째 손님 (소요시간 : 38분)\n",
            "[ ] 33번째 손님 (소요시간 : 19분)\n",
            "[O] 34번째 손님 (소요시간 : 11분)\n",
            "[ ] 35번째 손님 (소요시간 : 32분)\n",
            "[ ] 36번째 손님 (소요시간 : 21분)\n",
            "[ ] 37번째 손님 (소요시간 : 36분)\n",
            "[ ] 38번째 손님 (소요시간 : 16분)\n",
            "[ ] 39번째 손님 (소요시간 : 41분)\n",
            "[ ] 40번째 손님 (소요시간 : 23분)\n",
            "[O] 41번째 손님 (소요시간 : 14분)\n",
            "[O] 42번째 손님 (소요시간 : 7분)\n",
            "[ ] 43번째 손님 (소요시간 : 46분)\n",
            "[ ] 44번째 손님 (소요시간 : 27분)\n",
            "[O] 45번째 손님 (소요시간 : 5분)\n",
            "[ ] 46번째 손님 (소요시간 : 24분)\n",
            "[ ] 47번째 손님 (소요시간 : 26분)\n",
            "[O] 48번째 손님 (소요시간 : 15분)\n",
            "[O] 49번째 손님 (소요시간 : 7분)\n",
            "[ ] 50번째 손님 (소요시간 : 26분)\n",
            "총 탑승 승객 : 11분\n"
          ]
        }
      ]
    },
    {
      "cell_type": "code",
      "source": [
        "def std_weight(height, gender):\n",
        "  if gender == \"남자\":\n",
        "    print(\"키 %dcm 남자의 표준 체중은 %0.2fkg 입니다.\" % (height, height * 0.01 * height * 0.01 * 22))\n",
        "  else:\n",
        "    print(\"키 %dcm 여자의 표준 체중은 %0.2fkg 입니다.\" % (height, height * 0.01 * height * 0.01 * 21))\n",
        "\n",
        "std_weight(170, \"남자\")\n",
        "std_weight(159, \"여자\")\n",
        "\n",
        "###### 정답\n",
        "def std_weight(height, gender):\n",
        "  if gender == \"남자\":\n",
        "    return height * height * 22\n",
        "  else:\n",
        "    return height * height * 21\n",
        "  \n",
        "height = 175\n",
        "gender = \"남자\"\n",
        "weight = round(std_weight(height / 100, gender), 2)\n",
        "print(\"키 {0}cm {1}의 표준 체중은 {2}kg 입니다.\".format(height, gender, weight))\n"
      ],
      "metadata": {
        "colab": {
          "base_uri": "https://localhost:8080/"
        },
        "id": "o_cyh6pXrhzh",
        "outputId": "a0ae03d9-6862-45c6-b963-27ac3ea345f8"
      },
      "execution_count": null,
      "outputs": [
        {
          "output_type": "stream",
          "name": "stdout",
          "text": [
            "키 170cm 남자의 표준 체중은 63.58kg 입니다.\n",
            "키 159cm 여자의 표준 체중은 53.09kg 입니다.\n"
          ]
        }
      ]
    },
    {
      "cell_type": "code",
      "source": [
        "\n",
        "# for i in range(1,51):\n",
        "#   with open(str(i) + \"주차.txt\", \"w\", encoding=\"utf8\") as report_file:\n",
        "#     report_file.write(\"\"\"- X 주차 주간보고 -\n",
        "# 부서 : \n",
        "# 이름 : \n",
        "# 업무 요약 : \"\"\")"
      ],
      "metadata": {
        "id": "LRbAJDPd_ERw"
      },
      "execution_count": null,
      "outputs": []
    },
    {
      "cell_type": "code",
      "source": [
        "class House:\n",
        "  def __init__(self, location, house_type, deal_type, price, completion_year):\n",
        "    self.location = location\n",
        "    self.house_type = house_type\n",
        "    self.deal_type = deal_type\n",
        "    self.price = price\n",
        "    self.completion_year = completion_year\n",
        "    \n",
        "  def show_detail(self):\n",
        "    print(\"{0} {1} {2} {3} {4}\".format(self.location, self.house_type, self.deal_type, self.price, self.completion_year))\n",
        "#    print(self.location, self.house_type, self.deal_type, self.price, self.completion_year)\n",
        "\n",
        "\n",
        "houses = []\n",
        "house1 = House(\"강남\", \"아파트\", \"매매\", \"10억\", \"2010년\")\n",
        "house2 = House(\"마포\", \"오피스텔\", \"전세\", \"5억\", \"2007년\")\n",
        "house3 = House(\"송파\", \"빌라\", \"월세\", \"500/50\", \"2000년\")\n",
        "houses.append(house1)\n",
        "houses.append(house2)\n",
        "houses.append(house3)\n",
        "\n",
        "print(\"총 {0}대의 매물이 있습니다.\".format(len(houses)))\n",
        "\n",
        "for House in houses:\n",
        "  House.show_detail()\n"
      ],
      "metadata": {
        "colab": {
          "base_uri": "https://localhost:8080/"
        },
        "id": "swTUt3RxTpz9",
        "outputId": "642905a3-0d0d-4bf7-9677-fc4bb1bc492e"
      },
      "execution_count": null,
      "outputs": [
        {
          "output_type": "stream",
          "name": "stdout",
          "text": [
            "총 3대의 매물이 있습니다.\n",
            "강남 아파트 매매 10억 2010년\n",
            "마포 오피스텔 전세 5억 2007년\n",
            "송파 빌라 월세 500/50 2000년\n"
          ]
        }
      ]
    },
    {
      "cell_type": "code",
      "source": [
        "print('''|\\_/|\n",
        "|q p|   /}\n",
        "( 0 )\"\"\"\\\\\n",
        "|\"^\"`    |\n",
        "||_/=\\\\\\__|''')"
      ],
      "metadata": {
        "colab": {
          "base_uri": "https://localhost:8080/"
        },
        "id": "3EfAQ-Z7BNez",
        "outputId": "03e57866-8e10-4d48-d392-fe10457cecb3"
      },
      "execution_count": null,
      "outputs": [
        {
          "output_type": "stream",
          "name": "stdout",
          "text": [
            "|\\_/|\n",
            "|q p|   /}\n",
            "( 0 )\"\"\"\\\n",
            "|\"^\"`    |\n",
            "||_/=\\__|\n"
          ]
        }
      ]
    },
    {
      "cell_type": "code",
      "source": [
        "A = int(input())\n",
        "B = int(input())\n",
        "print(A * (B%10)) # % = 나누고 난 후 나머지\n",
        "print(A * (B%100//10)) # // = 나누고 난 후 몫, / = 나머지\n",
        "print(A * (B//100))\n",
        "print(A*B)"
      ],
      "metadata": {
        "colab": {
          "base_uri": "https://localhost:8080/"
        },
        "id": "x3fLJzZBEPAL",
        "outputId": "05da6a0b-c020-41c6-c5fa-94d330d509a8"
      },
      "execution_count": null,
      "outputs": [
        {
          "output_type": "stream",
          "name": "stdout",
          "text": [
            "472\n",
            "386\n",
            "2832\n",
            "3776\n",
            "1416\n",
            "182192\n"
          ]
        }
      ]
    },
    {
      "cell_type": "code",
      "source": [
        "A,B = map(int,input().split(\" \"))\n",
        "if A > B:\n",
        "  print(\">\")\n",
        "elif A < B:\n",
        "  print(\"<\")\n",
        "elif A == B:\n",
        "  print(\"==\")\n"
      ],
      "metadata": {
        "colab": {
          "base_uri": "https://localhost:8080/"
        },
        "id": "ozB2AZoUFzwh",
        "outputId": "9fb0134b-5676-4e53-b9ce-4d18e8f9d3b2"
      },
      "execution_count": null,
      "outputs": [
        {
          "output_type": "stream",
          "name": "stdout",
          "text": [
            "1 2\n",
            "<\n"
          ]
        }
      ]
    },
    {
      "cell_type": "code",
      "source": [
        "A = int(input())\n",
        "if (A % 4 == 0 & A % 100 != 0) or (A % 400 == 0):\n",
        "  print(1)\n",
        "else:\n",
        "  print(0)"
      ],
      "metadata": {
        "colab": {
          "base_uri": "https://localhost:8080/"
        },
        "id": "cs6bUpkuHrhB",
        "outputId": "ec2482f6-f1be-4ecf-84ff-197099ff9fc7"
      },
      "execution_count": null,
      "outputs": [
        {
          "output_type": "stream",
          "name": "stdout",
          "text": [
            "1996\n",
            "0\n"
          ]
        }
      ]
    },
    {
      "cell_type": "code",
      "source": [
        "class SoldOutError(Exception):\n",
        "  pass\n",
        "\n",
        "chicken = 10\n",
        "waiting = 1\n",
        "while(True):\n",
        "  try:\n",
        "    print(\"[남은 치킨 : {0}]\".format(chicken))\n",
        "    order = int(input(\"치킨 몇 마리 주문하시겠습니까?\"))\n",
        "    if order > chicken:\n",
        "      print(\"재료가 부족합니다.\")\n",
        "    elif order <= 0:\n",
        "      raise ValueError\n",
        "    else:\n",
        "      print(\"[대기번호 {0}번] {1} 마리 주문이 완료되었습니다.\".format(waiting, order))\n",
        "      waiting += 1\n",
        "      chicken -= order\n",
        "\n",
        "    if chicken == 0:\n",
        "      raise SoldOutError\n",
        "\n",
        "  except ValueError:\n",
        "    print(\"잘못된 값을 입력하였습니다.\")\n",
        "  except SoldOutError:\n",
        "    print(\"재고가 소진되어 더 이상 주문을 받지 않습니다.\")\n",
        "    break"
      ],
      "metadata": {
        "colab": {
          "base_uri": "https://localhost:8080/"
        },
        "id": "vabmaU6Nh05Z",
        "outputId": "0dbdb434-3318-4b1c-e9c7-cf9c2ad92943"
      },
      "execution_count": null,
      "outputs": [
        {
          "output_type": "stream",
          "name": "stdout",
          "text": [
            "[남은 치킨 : 10]\n",
            "치킨 몇 마리 주문하시겠습니까?10\n",
            "[대기번호 1번] 10 마리 주문이 완료되었습니다.\n",
            "재고가 소진되어 더 이상 주문을 받지 않습니다.\n"
          ]
        }
      ]
    }
  ]
}