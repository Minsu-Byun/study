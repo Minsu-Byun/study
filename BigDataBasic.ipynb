{
  "nbformat": 4,
  "nbformat_minor": 0,
  "metadata": {
    "colab": {
      "name": "BigDataBasic.ipynb",
      "provenance": [],
      "collapsed_sections": [],
      "authorship_tag": "ABX9TyPpWzhDaCQtvvs88hwcx7++"
    },
    "kernelspec": {
      "name": "python3",
      "display_name": "Python 3"
    },
    "language_info": {
      "name": "python"
    }
  },
  "cells": [
    {
      "cell_type": "code",
      "execution_count": null,
      "metadata": {
        "colab": {
          "base_uri": "https://localhost:8080/"
        },
        "id": "PiVoZdKjTRlv",
        "outputId": "34a1499c-0f16-4e98-83ff-c1c179720eb6"
      },
      "outputs": [
        {
          "output_type": "stream",
          "name": "stdout",
          "text": [
            "1\n",
            "P/y/t/h/o/n/ /p/r/o/g/r/a/m/m/i/n/g\n",
            "13\n",
            "PYTHON PROGRAMMING\n",
            "python programming\n",
            "Java programming\n",
            "['Python', 'programming']\n",
            "2\n",
            "0\n",
            "100000\n",
            "True\n"
          ]
        }
      ],
      "source": [
        "#기초 문법\n",
        "\n",
        "# 문자형\n",
        "a = 1 # %d 정수\n",
        "b = 3.3 # %f 실수(소수6자리), %0.2f 실수(소수2자리)\n",
        "c = \"python\" # %s 문자열\n",
        "d = \"Programming\" # %c 단일문자\n",
        "\n",
        "#문자열 내장함수\n",
        "str = \"Python programming\"\n",
        "print(str.count('p')) #count() 특정 문자 개수 세기\n",
        "print(\"/\".join(str)) # join() 문자열 삽입\n",
        "print(str.find('m')) # find() 찾는 문자열이 처음 나온 위치 반환\n",
        "print(str.upper()) # upper() 대문자로 변환\n",
        "print(str.lower()) # lower() 소문자로 변환\n",
        "print(str.replace(\"Python\", \"Java\")) # replace(원본, 바꿀것) 특정 값 변환\n",
        "print(str.split()) # split() 공백 기준(입력값)으로 분리\n",
        "\n",
        "#연산자\n",
        "a, b = 10, 5\n",
        "print(a//b) # // - 몫\n",
        "print(a%b) # % - 나머지\n",
        "print(a**b) # ** - 거듭제곱\n",
        "print(a != b) # != - 같지 않다\n"
      ]
    },
    {
      "cell_type": "code",
      "source": [
        "# 가장 큰 수 찾기\n",
        "a = int(input(\"첫번째 수를 입력하세요.\")) # input하면 string으로 나와서 int함수로 감싸줘야함\n",
        "b = int(input(\"두번째 수를 입력하세요.\"))\n",
        "c = int(input(\"세번째 수를 입력하세요.\"))\n",
        "\n",
        "if (a>=b):\n",
        "  big = a\n",
        "else:\n",
        "  big = b\n",
        "\n",
        "if (c>=big):\n",
        "  print(\"가장 큰 수는 {0}입니다.\".format(c)) # print(\"가장 큰 수는 %d입니다.\" %c)\n",
        "\n",
        "else:\n",
        "  print(\"가장 큰 수는 {0}입니다.\".format(big))"
      ],
      "metadata": {
        "colab": {
          "base_uri": "https://localhost:8080/",
          "height": 400
        },
        "id": "WEsfmKSPWmcR",
        "outputId": "8d2222ce-d35c-4339-f8e3-a98ac32d6f94"
      },
      "execution_count": null,
      "outputs": [
        {
          "output_type": "error",
          "ename": "KeyboardInterrupt",
          "evalue": "ignored",
          "traceback": [
            "\u001b[0;31m---------------------------------------------------------------------------\u001b[0m",
            "\u001b[0;31mKeyboardInterrupt\u001b[0m                         Traceback (most recent call last)",
            "\u001b[0;32m<ipython-input-1-44e5ba13eb5f>\u001b[0m in \u001b[0;36m<module>\u001b[0;34m\u001b[0m\n\u001b[1;32m      1\u001b[0m \u001b[0;31m# 가장 큰 수 찾기\u001b[0m\u001b[0;34m\u001b[0m\u001b[0;34m\u001b[0m\u001b[0;34m\u001b[0m\u001b[0m\n\u001b[0;32m----> 2\u001b[0;31m \u001b[0ma\u001b[0m \u001b[0;34m=\u001b[0m \u001b[0mint\u001b[0m\u001b[0;34m(\u001b[0m\u001b[0minput\u001b[0m\u001b[0;34m(\u001b[0m\u001b[0;34m\"첫번째 수를 입력하세요.\"\u001b[0m\u001b[0;34m)\u001b[0m\u001b[0;34m)\u001b[0m \u001b[0;31m# input하면 string으로 나와서 int함수로 감싸줘야함\u001b[0m\u001b[0;34m\u001b[0m\u001b[0;34m\u001b[0m\u001b[0m\n\u001b[0m\u001b[1;32m      3\u001b[0m \u001b[0mb\u001b[0m \u001b[0;34m=\u001b[0m \u001b[0mint\u001b[0m\u001b[0;34m(\u001b[0m\u001b[0minput\u001b[0m\u001b[0;34m(\u001b[0m\u001b[0;34m\"두번째 수를 입력하세요.\"\u001b[0m\u001b[0;34m)\u001b[0m\u001b[0;34m)\u001b[0m\u001b[0;34m\u001b[0m\u001b[0;34m\u001b[0m\u001b[0m\n\u001b[1;32m      4\u001b[0m \u001b[0mc\u001b[0m \u001b[0;34m=\u001b[0m \u001b[0mint\u001b[0m\u001b[0;34m(\u001b[0m\u001b[0minput\u001b[0m\u001b[0;34m(\u001b[0m\u001b[0;34m\"세번째 수를 입력하세요.\"\u001b[0m\u001b[0;34m)\u001b[0m\u001b[0;34m)\u001b[0m\u001b[0;34m\u001b[0m\u001b[0;34m\u001b[0m\u001b[0m\n\u001b[1;32m      5\u001b[0m \u001b[0;34m\u001b[0m\u001b[0m\n",
            "\u001b[0;32m/usr/local/lib/python3.7/dist-packages/ipykernel/kernelbase.py\u001b[0m in \u001b[0;36mraw_input\u001b[0;34m(self, prompt)\u001b[0m\n\u001b[1;32m    861\u001b[0m             \u001b[0mself\u001b[0m\u001b[0;34m.\u001b[0m\u001b[0m_parent_ident\u001b[0m\u001b[0;34m,\u001b[0m\u001b[0;34m\u001b[0m\u001b[0;34m\u001b[0m\u001b[0m\n\u001b[1;32m    862\u001b[0m             \u001b[0mself\u001b[0m\u001b[0;34m.\u001b[0m\u001b[0m_parent_header\u001b[0m\u001b[0;34m,\u001b[0m\u001b[0;34m\u001b[0m\u001b[0;34m\u001b[0m\u001b[0m\n\u001b[0;32m--> 863\u001b[0;31m             \u001b[0mpassword\u001b[0m\u001b[0;34m=\u001b[0m\u001b[0;32mFalse\u001b[0m\u001b[0;34m,\u001b[0m\u001b[0;34m\u001b[0m\u001b[0;34m\u001b[0m\u001b[0m\n\u001b[0m\u001b[1;32m    864\u001b[0m         )\n\u001b[1;32m    865\u001b[0m \u001b[0;34m\u001b[0m\u001b[0m\n",
            "\u001b[0;32m/usr/local/lib/python3.7/dist-packages/ipykernel/kernelbase.py\u001b[0m in \u001b[0;36m_input_request\u001b[0;34m(self, prompt, ident, parent, password)\u001b[0m\n\u001b[1;32m    902\u001b[0m             \u001b[0;32mexcept\u001b[0m \u001b[0mKeyboardInterrupt\u001b[0m\u001b[0;34m:\u001b[0m\u001b[0;34m\u001b[0m\u001b[0;34m\u001b[0m\u001b[0m\n\u001b[1;32m    903\u001b[0m                 \u001b[0;31m# re-raise KeyboardInterrupt, to truncate traceback\u001b[0m\u001b[0;34m\u001b[0m\u001b[0;34m\u001b[0m\u001b[0;34m\u001b[0m\u001b[0m\n\u001b[0;32m--> 904\u001b[0;31m                 \u001b[0;32mraise\u001b[0m \u001b[0mKeyboardInterrupt\u001b[0m\u001b[0;34m(\u001b[0m\u001b[0;34m\"Interrupted by user\"\u001b[0m\u001b[0;34m)\u001b[0m \u001b[0;32mfrom\u001b[0m \u001b[0;32mNone\u001b[0m\u001b[0;34m\u001b[0m\u001b[0;34m\u001b[0m\u001b[0m\n\u001b[0m\u001b[1;32m    905\u001b[0m             \u001b[0;32mexcept\u001b[0m \u001b[0mException\u001b[0m \u001b[0;32mas\u001b[0m \u001b[0me\u001b[0m\u001b[0;34m:\u001b[0m\u001b[0;34m\u001b[0m\u001b[0;34m\u001b[0m\u001b[0m\n\u001b[1;32m    906\u001b[0m                 \u001b[0mself\u001b[0m\u001b[0;34m.\u001b[0m\u001b[0mlog\u001b[0m\u001b[0;34m.\u001b[0m\u001b[0mwarning\u001b[0m\u001b[0;34m(\u001b[0m\u001b[0;34m\"Invalid Message:\"\u001b[0m\u001b[0;34m,\u001b[0m \u001b[0mexc_info\u001b[0m\u001b[0;34m=\u001b[0m\u001b[0;32mTrue\u001b[0m\u001b[0;34m)\u001b[0m\u001b[0;34m\u001b[0m\u001b[0;34m\u001b[0m\u001b[0m\n",
            "\u001b[0;31mKeyboardInterrupt\u001b[0m: Interrupted by user"
          ]
        }
      ]
    },
    {
      "cell_type": "code",
      "source": [
        "# 반복문\n",
        "for i in range(5):\n",
        "  print(\"Python programming\")\n",
        "\n",
        "sum = 0\n",
        "for i in range(1,6): #1~5\n",
        "  sum += i\n",
        "  print(\"i의 값 : %d, 합계 : %d\" %(i,sum))\n",
        "\n",
        "for i in range(1,10,2):\n",
        "  print(i, end = ' ')\n",
        "\n",
        "print() # 줄바꿈\n",
        "\n",
        "for x in \"python\": # 문자열 출력\n",
        "  print(x)\n",
        "\n",
        "for i in range(1,5):\n",
        "  for j in range(1,5):\n",
        "    print(i * j, end = ' ')\n",
        "  print() # i 가 바뀌는 시점에 줄바꿈\n",
        "\n",
        "###################################\n",
        "\n",
        "i = 1\n",
        "while i <= 5:\n",
        "  print(\"python programming\")\n",
        "  i += 1\n",
        "\n",
        "i = 0\n",
        "s = \"python programming\"\n",
        "while i <= (len(s) - 1): #len() 길이 추출\n",
        "  print(s[i], end = ' ')\n",
        "  i += 1\n",
        "\n",
        "print()\n",
        "i = 0\n",
        "while i <= 100:\n",
        "  print(i, end = ' ')\n",
        "  i += 1\n",
        "  if i == 10:\n",
        "    break\n"
      ],
      "metadata": {
        "colab": {
          "base_uri": "https://localhost:8080/"
        },
        "id": "Syb3q1oh8oZJ",
        "outputId": "35ff1354-cedf-4c49-b3b0-b71a93bdb2b3"
      },
      "execution_count": null,
      "outputs": [
        {
          "output_type": "stream",
          "name": "stdout",
          "text": [
            "Python programming\n",
            "Python programming\n",
            "Python programming\n",
            "Python programming\n",
            "Python programming\n",
            "i의 값 : 1, 합계 : 1\n",
            "i의 값 : 2, 합계 : 3\n",
            "i의 값 : 3, 합계 : 6\n",
            "i의 값 : 4, 합계 : 10\n",
            "i의 값 : 5, 합계 : 15\n",
            "1 3 5 7 9 \n",
            "p\n",
            "y\n",
            "t\n",
            "h\n",
            "o\n",
            "n\n",
            "1 2 3 4 \n",
            "2 4 6 8 \n",
            "3 6 9 12 \n",
            "4 8 12 16 \n",
            "python programming\n",
            "python programming\n",
            "python programming\n",
            "python programming\n",
            "python programming\n",
            "p y t h o n   p r o g r a m m i n g \n",
            "0 1 2 3 4 5 6 7 8 9 "
          ]
        }
      ]
    },
    {
      "cell_type": "code",
      "source": [
        "# 리스트\n",
        "a = []\n",
        "a = [1,2,3,4,5]\n",
        "print(a)\n",
        "print(a[0], a[-1], a[0] + a[2])\n",
        "print(a*3) # 리스트 * n = n번만큼 리스트 반복\n",
        "\n",
        "a.append('a') # append - 맨 끝에 원소 추가\n",
        "a.insert(1,'b') # insert(인덱스, 원소) - 특정 인덱스에 원소값 추가\n",
        "print(a)\n",
        "del a[1]\n",
        "print(a) # del a[] - 해당 인덱스 원소 삭제\n",
        "\n",
        "\n",
        "a = ['a','b','c','d','e']\n",
        "\n",
        "a.reverse() # 역순으로 만들기\n",
        "print(a)\n",
        "\n",
        "print(a.index('b')) # 원하는 원소 인덱스 추출\n",
        "\n",
        "a.sort() # 정방향으로 순서\n",
        "print(a)\n",
        "\n",
        "print(a.index('b'))\n",
        "\n",
        "print(a.count('a')) # 원소 갯수 세기\n",
        "a.remove('a') # 지정 원소 제거\n",
        "print(a)\n",
        "\n",
        "\n",
        "a = ['a','b','c']\n",
        "for x in a:\n",
        "  print(x, end = ' ')\n",
        "\n",
        "print()\n",
        "i = 0\n",
        "while i < len(a):\n",
        "  print(a[i], end = ' ')\n",
        "  i += 1\n",
        "\n",
        "print()\n",
        "# 2차원 리스트 - 인덱스 2개 설정 가능\n",
        "score = [[70,75], [80,90], [100,90], [95,85], [82,92]]\n",
        "print(score[0][0])\n",
        "print(score[0][1])\n",
        "print(score[2][0])"
      ],
      "metadata": {
        "id": "faqzddXxAtyJ",
        "colab": {
          "base_uri": "https://localhost:8080/"
        },
        "outputId": "d99bab17-b1a2-45fc-d283-25f7bf059c31"
      },
      "execution_count": null,
      "outputs": [
        {
          "output_type": "stream",
          "name": "stdout",
          "text": [
            "[1, 2, 3, 4, 5]\n",
            "1 5 4\n",
            "[1, 2, 3, 4, 5, 1, 2, 3, 4, 5, 1, 2, 3, 4, 5]\n",
            "[1, 'b', 2, 3, 4, 5, 'a']\n",
            "[1, 2, 3, 4, 5, 'a']\n",
            "['e', 'd', 'c', 'b', 'a']\n",
            "3\n",
            "['a', 'b', 'c', 'd', 'e']\n",
            "1\n",
            "1\n",
            "['b', 'c', 'd', 'e']\n",
            "a b c \n",
            "a b c \n",
            "70\n",
            "75\n",
            "100\n"
          ]
        }
      ]
    },
    {
      "cell_type": "code",
      "source": [
        "# 튜플 - 리스트와 유사하지만 값 변경 불가능\n",
        "t = ('a','b','c','d','e')\n",
        "print(t[0])\n",
        "print(t[2:])\n",
        "print(t * 2) #2번 반복\n",
        "print(len(t))\n",
        "\n",
        "# 딕셔너리 - 키(key):값(value)\n",
        "dic1 = {1:'a', 2:'b', 3:'c'}\n",
        "dic2 = {'name':'python', 'age':30,'job':'programming'}\n",
        "print(dic1[1]) # 키 값에 해당하는 값 출력\n",
        "print(dic2['age'])\n",
        "\n",
        "dic1[5] = 'e' # 키 값에 해당하는 값 추가\n",
        "print(dic1)\n",
        "dic2['contact'] = 'python.org'\n",
        "print(dic2)\n",
        "\n",
        "print(dic1.keys()) # keys, values, items\n",
        "print(dic1.values())\n",
        "print(dic1.items())\n",
        "\n",
        "if 'age' in dic2:\n",
        "  print(dic2.get('age')) # get('키') -> 값 출력\n"
      ],
      "metadata": {
        "colab": {
          "base_uri": "https://localhost:8080/"
        },
        "id": "lLrXSVefdoNU",
        "outputId": "60c7f81f-ba21-42bd-ac6a-6b58b9f17048"
      },
      "execution_count": null,
      "outputs": [
        {
          "output_type": "stream",
          "name": "stdout",
          "text": [
            "a\n",
            "('c', 'd', 'e')\n",
            "('a', 'b', 'c', 'd', 'e', 'a', 'b', 'c', 'd', 'e')\n",
            "5\n",
            "a\n",
            "30\n",
            "{1: 'a', 2: 'b', 3: 'c', 5: 'e'}\n",
            "{'name': 'python', 'age': 30, 'job': 'programming', 'contact': 'python.org'}\n",
            "dict_keys([1, 2, 3, 5])\n",
            "dict_values(['a', 'b', 'c', 'e'])\n",
            "dict_items([(1, 'a'), (2, 'b'), (3, 'c'), (5, 'e')])\n",
            "30\n"
          ]
        }
      ]
    },
    {
      "cell_type": "code",
      "source": [
        "id_pass = {'cuk':'12ab','python':'11aa','bigdata':'cc21'}\n",
        "id = input(\"아이디를 입력하세요.\")\n",
        "password = input(\"비밀번호를 입력하세요.\")\n",
        "\n",
        "if id in id_pass:\n",
        "  if password == id_pass.get(id):\n",
        "    print(\"아이디와 비밀번호가 맞습니다.\")\n",
        "  else:\n",
        "    print(\"비밀번호가 틀립니다.\")\n",
        "else:\n",
        "  print(\"아이디가 존재하지 않습니다.\")"
      ],
      "metadata": {
        "colab": {
          "base_uri": "https://localhost:8080/",
          "height": 375
        },
        "id": "ade-rEkyeWRV",
        "outputId": "31ab43e3-d5e5-4ce4-81b3-d29dce0459c2"
      },
      "execution_count": null,
      "outputs": [
        {
          "output_type": "error",
          "ename": "KeyboardInterrupt",
          "evalue": "ignored",
          "traceback": [
            "\u001b[0;31m---------------------------------------------------------------------------\u001b[0m",
            "\u001b[0;31mKeyboardInterrupt\u001b[0m                         Traceback (most recent call last)",
            "\u001b[0;32m<ipython-input-37-00e9b5e512cd>\u001b[0m in \u001b[0;36m<module>\u001b[0;34m\u001b[0m\n\u001b[1;32m      1\u001b[0m \u001b[0mid_pass\u001b[0m \u001b[0;34m=\u001b[0m \u001b[0;34m{\u001b[0m\u001b[0;34m'cuk'\u001b[0m\u001b[0;34m:\u001b[0m\u001b[0;34m'12ab'\u001b[0m\u001b[0;34m,\u001b[0m\u001b[0;34m'python'\u001b[0m\u001b[0;34m:\u001b[0m\u001b[0;34m'11aa'\u001b[0m\u001b[0;34m,\u001b[0m\u001b[0;34m'bigdata'\u001b[0m\u001b[0;34m:\u001b[0m\u001b[0;34m'cc21'\u001b[0m\u001b[0;34m}\u001b[0m\u001b[0;34m\u001b[0m\u001b[0;34m\u001b[0m\u001b[0m\n\u001b[0;32m----> 2\u001b[0;31m \u001b[0mid\u001b[0m \u001b[0;34m=\u001b[0m \u001b[0minput\u001b[0m\u001b[0;34m(\u001b[0m\u001b[0;34m\"아이디를 입력하세요.\"\u001b[0m\u001b[0;34m)\u001b[0m\u001b[0;34m\u001b[0m\u001b[0;34m\u001b[0m\u001b[0m\n\u001b[0m\u001b[1;32m      3\u001b[0m \u001b[0mpassword\u001b[0m \u001b[0;34m=\u001b[0m \u001b[0minput\u001b[0m\u001b[0;34m(\u001b[0m\u001b[0;34m\"비밀번호를 입력하세요.\"\u001b[0m\u001b[0;34m)\u001b[0m\u001b[0;34m\u001b[0m\u001b[0;34m\u001b[0m\u001b[0m\n\u001b[1;32m      4\u001b[0m \u001b[0;34m\u001b[0m\u001b[0m\n\u001b[1;32m      5\u001b[0m \u001b[0;32mif\u001b[0m \u001b[0mid\u001b[0m \u001b[0;32min\u001b[0m \u001b[0mid_pass\u001b[0m\u001b[0;34m:\u001b[0m\u001b[0;34m\u001b[0m\u001b[0;34m\u001b[0m\u001b[0m\n",
            "\u001b[0;32m/usr/local/lib/python3.7/dist-packages/ipykernel/kernelbase.py\u001b[0m in \u001b[0;36mraw_input\u001b[0;34m(self, prompt)\u001b[0m\n\u001b[1;32m    861\u001b[0m             \u001b[0mself\u001b[0m\u001b[0;34m.\u001b[0m\u001b[0m_parent_ident\u001b[0m\u001b[0;34m,\u001b[0m\u001b[0;34m\u001b[0m\u001b[0;34m\u001b[0m\u001b[0m\n\u001b[1;32m    862\u001b[0m             \u001b[0mself\u001b[0m\u001b[0;34m.\u001b[0m\u001b[0m_parent_header\u001b[0m\u001b[0;34m,\u001b[0m\u001b[0;34m\u001b[0m\u001b[0;34m\u001b[0m\u001b[0m\n\u001b[0;32m--> 863\u001b[0;31m             \u001b[0mpassword\u001b[0m\u001b[0;34m=\u001b[0m\u001b[0;32mFalse\u001b[0m\u001b[0;34m,\u001b[0m\u001b[0;34m\u001b[0m\u001b[0;34m\u001b[0m\u001b[0m\n\u001b[0m\u001b[1;32m    864\u001b[0m         )\n\u001b[1;32m    865\u001b[0m \u001b[0;34m\u001b[0m\u001b[0m\n",
            "\u001b[0;32m/usr/local/lib/python3.7/dist-packages/ipykernel/kernelbase.py\u001b[0m in \u001b[0;36m_input_request\u001b[0;34m(self, prompt, ident, parent, password)\u001b[0m\n\u001b[1;32m    902\u001b[0m             \u001b[0;32mexcept\u001b[0m \u001b[0mKeyboardInterrupt\u001b[0m\u001b[0;34m:\u001b[0m\u001b[0;34m\u001b[0m\u001b[0;34m\u001b[0m\u001b[0m\n\u001b[1;32m    903\u001b[0m                 \u001b[0;31m# re-raise KeyboardInterrupt, to truncate traceback\u001b[0m\u001b[0;34m\u001b[0m\u001b[0;34m\u001b[0m\u001b[0;34m\u001b[0m\u001b[0m\n\u001b[0;32m--> 904\u001b[0;31m                 \u001b[0;32mraise\u001b[0m \u001b[0mKeyboardInterrupt\u001b[0m\u001b[0;34m(\u001b[0m\u001b[0;34m\"Interrupted by user\"\u001b[0m\u001b[0;34m)\u001b[0m \u001b[0;32mfrom\u001b[0m \u001b[0;32mNone\u001b[0m\u001b[0;34m\u001b[0m\u001b[0;34m\u001b[0m\u001b[0m\n\u001b[0m\u001b[1;32m    905\u001b[0m             \u001b[0;32mexcept\u001b[0m \u001b[0mException\u001b[0m \u001b[0;32mas\u001b[0m \u001b[0me\u001b[0m\u001b[0;34m:\u001b[0m\u001b[0;34m\u001b[0m\u001b[0;34m\u001b[0m\u001b[0m\n\u001b[1;32m    906\u001b[0m                 \u001b[0mself\u001b[0m\u001b[0;34m.\u001b[0m\u001b[0mlog\u001b[0m\u001b[0;34m.\u001b[0m\u001b[0mwarning\u001b[0m\u001b[0;34m(\u001b[0m\u001b[0;34m\"Invalid Message:\"\u001b[0m\u001b[0;34m,\u001b[0m \u001b[0mexc_info\u001b[0m\u001b[0;34m=\u001b[0m\u001b[0;32mTrue\u001b[0m\u001b[0;34m)\u001b[0m\u001b[0;34m\u001b[0m\u001b[0;34m\u001b[0m\u001b[0m\n",
            "\u001b[0;31mKeyboardInterrupt\u001b[0m: Interrupted by user"
          ]
        }
      ]
    },
    {
      "cell_type": "code",
      "source": [
        "# 함수, 라이브러리(모듈, 패키지)\n",
        "def sum(x,y):\n",
        "  return x + y\n",
        "\n",
        "print(sum(3,5))\n",
        "\n",
        "def f1(x):\n",
        "  if x % 2 == 0 :\n",
        "    return(\"짝수\")\n",
        "  else:\n",
        "    return(\"홀수\")\n",
        "\n",
        "# x = int(input(\"홀짝판별기\"))\n",
        "# print(\"{0}은 {1} 입니다.\".format(x, f1(x)))\n",
        "\n",
        "def f2(x,y):\n",
        "  return x*y\n",
        "\n",
        "print(f2(2,4))"
      ],
      "metadata": {
        "colab": {
          "base_uri": "https://localhost:8080/"
        },
        "id": "JZO8-2WahjyC",
        "outputId": "0f128942-b541-4097-ca74-af0ff8205f53"
      },
      "execution_count": null,
      "outputs": [
        {
          "output_type": "stream",
          "name": "stdout",
          "text": [
            "8\n",
            "8\n"
          ]
        }
      ]
    },
    {
      "cell_type": "code",
      "source": [
        "# Numpy - 행렬이나 다차원 배열 분석, 배열 특화\n",
        "import numpy as np\n",
        "\n",
        "ar1 = np.array([1,2,3,4,5])\n",
        "ar2 = np.array([[1,2,3],[4,5,6]]) # 2차원 배열\n",
        "print(ar1)\n",
        "print(ar2)\n",
        "\n",
        "ar3 = np.random.randn(3) # 난수\n",
        "ar4 = np.random.randn(2,3)\n",
        "print(ar3)\n",
        "print(ar4)\n",
        "\n",
        "ar5 = np.zeros(5)\n",
        "ar6 = np.zeros((2,3))\n",
        "print(ar5)\n",
        "print(ar6)\n",
        "\n",
        "ar7 = np.arange(20,200,10) # arange(처음,마지막-간격,간격)\n",
        "ar8 = ar7.reshape(3,6)\n",
        "print(ar7)\n",
        "print(ar8)\n",
        "\n",
        "ar9 = np.arange(1,11)\n",
        "print(ar9)\n",
        "print(ar9+3,\"\\n\",ar9*2,\"\\n\") # 줄바꿈 \"\\n\"\n",
        "\n",
        "ar10 = np.array([[5,7,9],[-7,-6,19],[6,9,11]])\n",
        "print(ar10)\n",
        "print(ar10.sum())\n",
        "print(ar10.mean())\n",
        "print(ar10.max())\n",
        "print(ar10.min())\n",
        "print(ar10.max(axis=0)) # axis=0 - 배열의 각 열 원소 중 가장 큰 값\n",
        "print(ar10.max(axis=1)) # axis=1 - 배열의 각 행 원소 중 가장 큰 값\n",
        "\n",
        "print()\n",
        "print(ar10 > 0)\n",
        "sum_count = (ar10 > 0).sum()\n",
        "print(sum_count)\n",
        "\n",
        "ar11 = np.where(ar10 < 0, 0, ar10) # np.where(조건, 조건 만족 시 반환 값, 조건 만족 x 시 반환 값)\n",
        "print(ar11)\n",
        "\n",
        "print()\n",
        "ar10.sort(0) # 열 단위 오름차순\n",
        "print(ar10) # print() 안에 ar10.sort(0) 넣으면 None 출력\n",
        "ar10.sort(1)\n",
        "print(ar10) #행 단위 오름차순"
      ],
      "metadata": {
        "colab": {
          "base_uri": "https://localhost:8080/"
        },
        "id": "6_hWTl1tf4wI",
        "outputId": "5a430580-7a53-4715-c695-50fed341b882"
      },
      "execution_count": null,
      "outputs": [
        {
          "output_type": "stream",
          "name": "stdout",
          "text": [
            "[1 2 3 4 5]\n",
            "[[1 2 3]\n",
            " [4 5 6]]\n",
            "[ 1.78676271 -0.45001192  0.29683464]\n",
            "[[-1.03166894 -0.28184062 -0.17269812]\n",
            " [-0.99800387 -1.12209862 -1.49380879]]\n",
            "[0. 0. 0. 0. 0.]\n",
            "[[0. 0. 0.]\n",
            " [0. 0. 0.]]\n",
            "[ 20  30  40  50  60  70  80  90 100 110 120 130 140 150 160 170 180 190]\n",
            "[[ 20  30  40  50  60  70]\n",
            " [ 80  90 100 110 120 130]\n",
            " [140 150 160 170 180 190]]\n",
            "[ 1  2  3  4  5  6  7  8  9 10]\n",
            "[ 4  5  6  7  8  9 10 11 12 13] \n",
            " [ 2  4  6  8 10 12 14 16 18 20] \n",
            "\n",
            "[[ 5  7  9]\n",
            " [-7 -6 19]\n",
            " [ 6  9 11]]\n",
            "53\n",
            "5.888888888888889\n",
            "19\n",
            "-7\n",
            "[ 6  9 19]\n",
            "[ 9 19 11]\n",
            "\n",
            "[[ True  True  True]\n",
            " [False False  True]\n",
            " [ True  True  True]]\n",
            "7\n",
            "[[ 5  7  9]\n",
            " [ 0  0 19]\n",
            " [ 6  9 11]]\n",
            "\n",
            "[[-7 -6  9]\n",
            " [ 5  7 11]\n",
            " [ 6  9 19]]\n",
            "[[-7 -6  9]\n",
            " [ 5  7 11]\n",
            " [ 6  9 19]]\n"
          ]
        }
      ]
    },
    {
      "cell_type": "code",
      "source": [
        "#판다스 - 데이터 분석, 테이블 형식(행,열)의 데이터 특화\n",
        "import pandas as pd\n",
        "\n",
        "sr1 = pd.Series([10,30,20,40,60], index = ['a','b','c','d','e']) # Series - series로 입력하니 오류출력\n",
        "print(sr1)\n",
        "print(sr1.values)\n",
        "print(sr1.index)\n",
        "print(sr1[2])\n",
        "\n",
        "print(sr1[1]) # 아래와 같은 값\n",
        "print(sr1['b'])\n",
        "\n",
        "print(sr1[[1,2]]) #[[]] 해줘야 [1], [2] 출력\n",
        "print(sr1[['a','b']])\n",
        "print(sr1[:4]) # 0 ~ 3\n",
        "print(sr1['a':'d']) # a~d 까지(슬라이싱x)"
      ],
      "metadata": {
        "colab": {
          "base_uri": "https://localhost:8080/"
        },
        "id": "r_16aY4Qslyv",
        "outputId": "34ba2e16-627e-4347-af28-d3dfc9092e30"
      },
      "execution_count": null,
      "outputs": [
        {
          "output_type": "stream",
          "name": "stdout",
          "text": [
            "a    10\n",
            "b    30\n",
            "c    20\n",
            "d    40\n",
            "e    60\n",
            "dtype: int64\n",
            "[10 30 20 40 60]\n",
            "Index(['a', 'b', 'c', 'd', 'e'], dtype='object')\n",
            "20\n",
            "30\n",
            "30\n",
            "b    30\n",
            "c    20\n",
            "dtype: int64\n",
            "a    10\n",
            "b    30\n",
            "dtype: int64\n",
            "a    10\n",
            "b    30\n",
            "c    20\n",
            "d    40\n",
            "dtype: int64\n",
            "a    10\n",
            "b    30\n",
            "c    20\n",
            "d    40\n",
            "dtype: int64\n"
          ]
        }
      ]
    },
    {
      "cell_type": "code",
      "source": [
        "# Pandas 데이터프레임\n",
        "df1 = pd.DataFrame([[10,20,30],[40,50,60]]) #소문자 dataframe 안댐\n",
        "print(df1)\n",
        "print()\n",
        "\n",
        "dic1 = {'fruit' : ['사과', '배', '감','귤','바나나'],\n",
        "        'price' : [100,200,150,50,200],\n",
        "        'qty' : [10,25,30,25,15]}\n",
        "df2 = pd.DataFrame(dic1, index = ['a','b','c','d','e'])\n",
        "print(df2)\n",
        "print()\n",
        "\n",
        "df2.rename(columns = {'fruit':'과일','price':'가격','qty':'수량'}, inplace=True) # inplace=Treu 생략 시, 새로운 객체를 생성해서 변환\n",
        "df2.rename(index = {'a':0,'b':1,'c':2,'d':3,'e':4}, inplace=True)\n",
        "print(df2)"
      ],
      "metadata": {
        "colab": {
          "base_uri": "https://localhost:8080/"
        },
        "id": "4tx_c-e_-92Y",
        "outputId": "3c9c0840-99ac-4d92-a4a9-bc342f981950"
      },
      "execution_count": null,
      "outputs": [
        {
          "output_type": "stream",
          "name": "stdout",
          "text": [
            "    0   1   2\n",
            "0  10  20  30\n",
            "1  40  50  60\n",
            "\n",
            "  fruit  price  qty\n",
            "a    사과    100   10\n",
            "b     배    200   25\n",
            "c     감    150   30\n",
            "d     귤     50   25\n",
            "e   바나나    200   15\n",
            "\n",
            "    과일   가격  수량\n",
            "0   사과  100  10\n",
            "1    배  200  25\n",
            "2    감  150  30\n",
            "3    귤   50  25\n",
            "4  바나나  200  15\n"
          ]
        }
      ]
    },
    {
      "cell_type": "code",
      "source": [
        "# import pandas as pd\n",
        "# from google.colab import drive\n",
        "# drive.mount('/content/drive')\n",
        "\n",
        "df1 = pd.read_csv('/content/drive/MyDrive/Colab Notebooks/빅데이터분석기사예제/df_sample.csv')\n",
        "print(df1.head(5)) #위에 5개만 보기\n",
        "df1.shape #(행, 열) 수\n",
        "#print(df1.info()) # string -python = object - pandas\n",
        "df1.count() #열별 데이터 수\n",
        "df1.describe(include='all') #기술통계 요약, top = 가장 많이 나타나는 데이터 -> freq = 그 빈도\n",
        "df1['중간'].mean()\n",
        "df1[['중간','기말']].mean()\n",
        "df1['학번'].min()\n",
        "df1.median() # 숫자형에만 적용\n",
        "df1[['중간','기말']].std()\n",
        "df1[['중간','기말']].var()\n",
        "\n",
        "df1['퀴즈'].value_counts() # 값의 갯수\n",
        "df1[['중간','기말']].corr() # 두 열 상관계수 출력\n",
        "df1.corr() # 모든 열 상관계수\n",
        "\n",
        "# df1.set_index('학번', inplace = True) #df1.reset_index(), inplace = True 입력 시, 변경사항이 반영됨\n",
        "# print(df1.loc['S01','중간']) # .loc[인덱스명,열이름]에 해당하는 값 출력\n",
        "# print(df1.loc['S05'])\n",
        "\n",
        "print(df1.iloc[1,0], df1.iloc[1,1], df1.iloc[1,2]) # .iloc[인덱스번호, 열번호]\n",
        "print(df1.iloc[4])\n",
        "\n",
        "df1['중간']\n",
        "df1[['중간','기말']]\n",
        "\n",
        "df2 = df1.drop(0) # 인덱스 0행 삭제\n",
        "df3 = df2.drop('퀴즈', axis=1) # '퀴즈' 열 삭제, 기본 설정은 행 삭제이므로 axis=1 추가 시 열 삭제\n",
        "\n",
        "df1.set_index('학번', inplace = True)\n",
        "df2 = df1.sort_index(ascending=False) # 인덱스 내림차순 정렬\n",
        "df2 = df1.sort_values(by = '기말', ascending = True) # 열 기준(기말) 오름차순 정렬\n",
        "\n",
        "\n",
        "df1[\"합계\"] = df1[\"중간\"] + df1[\"기말\"]\n",
        "x = [\"1반\",\"1반\",\"1반\",\"2반\",\"2반\",\"2반\",\"3반\",\"3반\",\"3반\",\"3반\"]\n",
        "\n",
        "df1[\"cls\"] = x\n",
        "# df1.insert(6,\"cls\",x,True)\n",
        "# df1.assign(cls = x)\n",
        "# df1.loc[:,'cls'] = x\n",
        "\n",
        "import numpy as np\n",
        "#Z스코어\n",
        "mid_avg = np.mean(df1[\"중간\"])\n",
        "mid_std = np.std(df1[\"중간\"])\n",
        "df1[\"중간_Z점수\"] = (df1[\"중간\"] - mid_avg) / mid_std # Z스코어 열 생성\n",
        "\n",
        "#정규화\n",
        "fin_min = np.min(df1[\"기말\"])\n",
        "fin_max = np.max(df1[\"기말\"])\n",
        "df1[\"기말_정규화\"] = (df1[\"기말\"] - fin_min) / (fin_max - fin_min)\n",
        "\n",
        "#그룹화\n",
        "df1_cls_grp = df1.groupby(df1['cls'])\n",
        "df1_cls_grp.mean() # 그룹별 평균\n",
        "df1['중간'].groupby(df1['cls']).count() # '중간'열에서 'cls' 빈도 수\n",
        "df1[\"퀴즈\"].apply(np.sqrt) # 퀴즈 열에 함수(루트) 적용\n",
        "\n",
        "#결측값\n",
        "x = [14,15,13,14,None,None,19,11,12,18]\n",
        "df1[\"토론\"] = x\n",
        "# df1.info()\n",
        "# df1.isnull() # Null = True\n",
        "# df1.notnull() # Null = False\n",
        "df1_new = df1.dropna(axis=0) # 결측값 제거 - axis = 0 (행 전체), axis = 1 (열 전체)\n",
        "df1_new = df1[\"토론\"].dropna() # 열에서 결측값 제거\n",
        "\n",
        "d_mean = df1[\"토론\"].mean()\n",
        "df1[\"토론\"].fillna(d_mean, inplace = True) # 결측값 채우기\n",
        "\n",
        "#이상치 판별 - (1사분위수 - 1.5*사분위범위)보다 작거나 (3사분위수 + 1.5*사분위범위) 보다 큰 수\n",
        "df1_1QR = df1[\"기말\"].quantile(0.25) # 1사분위수\n",
        "df1_3QR = df1[\"기말\"].quantile(0.75) # 3사분위수\n",
        "df1_IQR = df1_3QR - df1_1QR # 사분위범위\n",
        "# print(df1_IQR)\n"
      ],
      "metadata": {
        "colab": {
          "base_uri": "https://localhost:8080/"
        },
        "id": "qfeul4q-IMFB",
        "outputId": "681cf26f-a25d-4024-e531-049d524e8751"
      },
      "execution_count": 23,
      "outputs": [
        {
          "output_type": "stream",
          "name": "stdout",
          "text": [
            "    학번  중간  기말  리포트  퀴즈\n",
            "0  S01  90  95   20  20\n",
            "1  S02  82  83   18  18\n",
            "2  S03  80  78   18  18\n",
            "3  S04  78  75   10  10\n",
            "4  S05  93  91   12  12\n",
            "S02 82 83\n",
            "학번     S05\n",
            "중간      93\n",
            "기말      91\n",
            "리포트     12\n",
            "퀴즈      12\n",
            "Name: 4, dtype: object\n",
            "7.25\n"
          ]
        },
        {
          "output_type": "stream",
          "name": "stderr",
          "text": [
            "/usr/local/lib/python3.7/dist-packages/ipykernel_launcher.py:14: FutureWarning: Dropping of nuisance columns in DataFrame reductions (with 'numeric_only=None') is deprecated; in a future version this will raise TypeError.  Select only valid columns before calling the reduction.\n",
            "  \n"
          ]
        }
      ]
    }
  ]
}